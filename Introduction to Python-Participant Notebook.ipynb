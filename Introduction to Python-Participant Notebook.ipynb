{
 "cells": [
  {
   "cell_type": "markdown",
   "metadata": {
    "slideshow": {
     "slide_type": "slide"
    }
   },
   "source": [
    "# Introduction to Python<br>Basics of Data Analysis Using Pandas\n",
    "\n",
    "David Durden, Data Services Librarian <br>\n",
    "Yishan Ding, Statistical Consulting Graduate Assistant\n",
    "\n",
    "<img src=\"assets/python-logo-master-v3-TM.png\" alt=\"Python Logo\" width=\"200\" align=\"right\"/>\n",
    "\n",
    "---"
   ]
  },
  {
   "cell_type": "markdown",
   "metadata": {
    "slideshow": {
     "slide_type": "slide"
    }
   },
   "source": [
    "## What is Python?\n",
    "\n",
    "- An interpreted high-level general-purpose programming language\n",
    "- Both a programming language and a tool that executes scripts written in Python\n",
    "- Python was created Guido van Rossum and released in 1991\n",
    "\n",
    "<img src=\"assets/800px-Guido_van_Rossum_OSCON_2006_cropped.png\" alt=\"Guido van Rossum\" width=\"100\" align=\"right\"/>\n",
    "\n",
    "## Why use Python?\n",
    "\n",
    "- Free\n",
    "- Open-source with active development\n",
    "- Available on all major OS's (MacOS, Linux, Windows)\n",
    "- Large community\n",
    "- Easy-to-learn*\n",
    "- Encourages re-use and reproducibility\n",
    "- Interdisciplinary and extensible\n",
    "\n",
    "---"
   ]
  },
  {
   "cell_type": "markdown",
   "metadata": {
    "slideshow": {
     "slide_type": "slide"
    }
   },
   "source": [
    "## Species of Python\n",
    "[Anaconda](https://www.anaconda.com/) is a specific distribution of Python that includes a lot of popular packages by default, including IPython console, Jupyter Notebook, Pandas, and others.\n",
    "\n",
    "Several OS's come with Python installed by default. However, the system Python is often used by the operating system. Modifying the system Python *can* result in some programs not working correctly.\n",
    "\n",
    "---"
   ]
  },
  {
   "cell_type": "markdown",
   "metadata": {
    "slideshow": {
     "slide_type": "slide"
    }
   },
   "source": [
    "## Outline for Today's Workshop\n",
    "- [Some basic Python commands](#start)\n",
    "- [Introduction to Pandas for data analysis](#pandas)\n",
    "- [Data import and preview](#import)\n",
    "- [Subsetting data](#subset)\n",
    "- [Summary statistics and reporting](#sumrep)\n",
    "- [Simple plots](#plots)\n",
    "- [Simple Linear Regression](#model)"
   ]
  },
  {
   "cell_type": "markdown",
   "metadata": {},
   "source": [
    "### Exercises\n",
    "- [Exercise 1](#ex1)\n",
    "- [Exercise 2](#ex2)\n",
    "- [Exercise 3](#ex3)\n",
    "- [Exercise 4](#ex4)\n",
    "- [Exercise 5](#ex5)\n",
    "- [Exercise 6](#ex6)\n",
    "\n",
    "---"
   ]
  },
  {
   "cell_type": "markdown",
   "metadata": {
    "slideshow": {
     "slide_type": "slide"
    }
   },
   "source": [
    "## Set Up Your Environment\n",
    "\n",
    "We will be using a Jupyter Notebook for this workshop to avoid having to edit text files and execute them at the Command Line.\n",
    "\n",
    "Python can also be run in interactive mode: You can type commands directly into the Python interpreter and see results. Open your Command Prompt or Terminal application and type `python`.\n",
    "\n",
    "Using the interpreter is useful for testing code and getting immediate results. However, you cannot easily edit those commands or save your work. "
   ]
  },
  {
   "cell_type": "markdown",
   "metadata": {
    "slideshow": {
     "slide_type": "subslide"
    }
   },
   "source": [
    "### Creating Python Scripts\n",
    "Instead of using the interpreter, we can also write Python programs and then run them.\n",
    "\n",
    "To get started, use a plain text editor like:\n",
    "- [BBedit](https://www.barebones.com/products/bbedit/index.html)\n",
    "- [Atom](https://atom.io/)\n",
    "- [Notepad++](https://notepad-plus-plus.org/)\n",
    "\n",
    "Text documents should be set up a specific way in order to read a valid Python code.\n",
    "- The first line of your document should always be: `#! /usr/bin/env python`\n",
    "- Save your file with `.py`\n",
    "\n",
    "When you have written a program, you can run it using the following basic command: `python my_program.py`\n",
    "\n",
    "---"
   ]
  },
  {
   "cell_type": "markdown",
   "metadata": {
    "slideshow": {
     "slide_type": "slide"
    }
   },
   "source": [
    "## Getting Started<a name='start'></a>\n",
    "\n",
    "- Meet the print statement\n",
    "    - `print(\"Hello World!\")`"
   ]
  },
  {
   "cell_type": "code",
   "execution_count": 1,
   "metadata": {
    "slideshow": {
     "slide_type": "fragment"
    }
   },
   "outputs": [],
   "source": [
    "# Enter the 'hello world' print statement below\n"
   ]
  },
  {
   "cell_type": "markdown",
   "metadata": {
    "slideshow": {
     "slide_type": "fragment"
    }
   },
   "source": [
    "**Fun fact**: Printing `Hello world!` to the screen is a rhetorical function used by programmers to test that their systems are operating correctly. Incidentally, this has also become one of the first programs that you learn in almost every programming language. The creation of this function is attributed to Brian Kernighan, who first published it in a code snippet in *A Tutorial Introduction to the Programming Language B* in 1973."
   ]
  },
  {
   "cell_type": "markdown",
   "metadata": {
    "slideshow": {
     "slide_type": "subslide"
    }
   },
   "source": [
    "### Assign values to a variable\n",
    "You can store anything in a variable in Python. \n",
    "- `x = 3 # Assign a single integer value`\n",
    "- `y = [1, 2, 3] # Assign a list of integer values`\n",
    "- `z = [\"a\", \"b\", \"c\"] # Assign a list of character values`\n",
    "- `a = [y, z] # Assign a list of variables`\n",
    "- `b = a # Assign a variable to a variable`\n",
    "\n",
    "TIP: ou can either 'call' a variable directly or print it using the `print()` function."
   ]
  },
  {
   "cell_type": "code",
   "execution_count": 3,
   "metadata": {
    "slideshow": {
     "slide_type": "fragment"
    }
   },
   "outputs": [],
   "source": [
    "# Explore creating variables and assigning values below\n",
    "# Experiment with calling the variable directly and printing it to the screen\n"
   ]
  },
  {
   "cell_type": "markdown",
   "metadata": {
    "slideshow": {
     "slide_type": "subslide"
    }
   },
   "source": [
    "### Using Python as a Calculator\n",
    "\n",
    "- `35*40/4`\n",
    "- `((6-4)*(2+8))/5`\n",
    "- Advanced mathematical concepts are implemented in the `math` library which needs to be imported before we can use it\n",
    "    - `from math import sqrt`\n",
    "    - `sqrt(2)`"
   ]
  },
  {
   "cell_type": "code",
   "execution_count": 6,
   "metadata": {
    "slideshow": {
     "slide_type": "fragment"
    }
   },
   "outputs": [],
   "source": [
    "# Do some arithmetic below!\n"
   ]
  },
  {
   "cell_type": "code",
   "execution_count": 16,
   "metadata": {
    "slideshow": {
     "slide_type": "fragment"
    }
   },
   "outputs": [],
   "source": [
    "# Import the sqrt method from the math library and then calcuate a square root below\n"
   ]
  },
  {
   "cell_type": "markdown",
   "metadata": {
    "slideshow": {
     "slide_type": "slide"
    }
   },
   "source": [
    "### 5 Basic Data Types\n",
    "\n",
    "Certain Python operations require input to be of a specific data type.\n",
    "\n",
    "Type     | Example\n",
    "--------- | -------\n",
    "Integer   | `3` or `int(3)`\n",
    "Float     | `3.1415` or `float(6/5)`\n",
    "Character | `\"a\"`, `\"b\"`, `\"University of Maryland\"` or `str()`\n",
    "Logical   | `True`, `False` or `bool()`\n",
    "Complex   | `1+4j` or `complex(1, 4)`\n",
    "\n",
    "- To determine an object type, use `type()`\n",
    "- To test if an object is a specific type, use `isinstance(object, type)`\n",
    "- To change type, use `int()`, `float()`, `str()`, `bool()`, `complex()`\n"
   ]
  },
  {
   "cell_type": "code",
   "execution_count": 11,
   "metadata": {
    "slideshow": {
     "slide_type": "subslide"
    }
   },
   "outputs": [],
   "source": [
    "# Test the number 3 with type()\n",
    "# What's the result?\n"
   ]
  },
  {
   "cell_type": "code",
   "execution_count": 12,
   "metadata": {
    "slideshow": {
     "slide_type": "fragment"
    }
   },
   "outputs": [],
   "source": [
    "# What will be returned if you run type(3.1415)?\n"
   ]
  },
  {
   "cell_type": "code",
   "execution_count": 13,
   "metadata": {
    "slideshow": {
     "slide_type": "fragment"
    }
   },
   "outputs": [],
   "source": [
    "# Character or strings have to be wrapped in either single or double quotations\n",
    "# Test the following string: Testudo\n"
   ]
  },
  {
   "cell_type": "code",
   "execution_count": 14,
   "metadata": {
    "slideshow": {
     "slide_type": "fragment"
    }
   },
   "outputs": [],
   "source": [
    "# Store the ratio 6/5 in the variable foo\n",
    "# Determine if foo is a float using the isinstance() method\n"
   ]
  },
  {
   "cell_type": "code",
   "execution_count": 15,
   "metadata": {
    "slideshow": {
     "slide_type": "fragment"
    }
   },
   "outputs": [],
   "source": [
    "# Create a complex number using the complex() method\n"
   ]
  },
  {
   "cell_type": "markdown",
   "metadata": {},
   "source": [
    "---"
   ]
  },
  {
   "cell_type": "markdown",
   "metadata": {
    "slideshow": {
     "slide_type": "slide"
    }
   },
   "source": [
    "## Pandas: The Python Data Analysis Library<a name='pandas'></a>\n",
    "\n",
    "[Pandas](https://pandas.pydata.org/) is already included by default in Anaconda Python. If you are using a different distribution you will have to download and install Pandas.\n",
    "\n",
    "Pandas provides easy-to-use methods for working with data structures and performing data analysis using the Python language and enviroment.\n",
    "\n",
    "Many of the commands and capabilities are similar to R.\n",
    "\n",
    "We have to import Pandas before we can use, similar to how we imported the `math` library\n",
    "- `import pandas`\n",
    "- `import pandas as pd`\n"
   ]
  },
  {
   "cell_type": "code",
   "execution_count": 18,
   "metadata": {
    "slideshow": {
     "slide_type": "fragment"
    }
   },
   "outputs": [],
   "source": [
    "# To get started using Pandas we have to import it first\n",
    "# Import Pandas using the import statment\n",
    "\n",
    "# Imported libraries can be aliased to make code shorter and easier to type\n",
    "# pd is the common alias for Pandas\n",
    "# Import Pandas and alias it as pd\n",
    "\n",
    "# This is an optional parameter to limit the amount of rows printed to the screen\n",
    "# Uncomment it to enable it\n",
    "#pd.set_option('display.max_rows', 10) "
   ]
  },
  {
   "cell_type": "markdown",
   "metadata": {
    "slideshow": {
     "slide_type": "slide"
    }
   },
   "source": [
    "### Basic Commands\n",
    "\n",
    "These are the basic commands when working with DataFrames in Pandas.\n",
    "\n",
    "\n",
    "- `df.max()`\n",
    "- `df.min()`\n",
    "- `df.mean()`\n",
    "- `df.median()`\n",
    "- sum\n",
    "    - `df.sum()`\n",
    "    - `df.cumsum()`\n",
    "- `df.var`\n",
    "- `df.std()`\n",
    "- length\n",
    "    - `len(df.index) # Returns the length of the index column`\n",
    "    - `df.count()`\n",
    "- summary\n",
    "    - `df.describe()`\n",
    "- table # No direct translation\n",
    "- x\\[\\] # Indexing operator?"
   ]
  },
  {
   "cell_type": "markdown",
   "metadata": {
    "slideshow": {
     "slide_type": "slide"
    }
   },
   "source": [
    "## Import a Dataset<a name='import'></a>\n",
    "\n",
    "We will begin by importing the `GSSsubset.csv` file.\n",
    "\n",
    "Pandas uses the `pandas.read_csv()` function to import csv files.\n",
    "- File names are string data and should be wrapped in quotes!"
   ]
  },
  {
   "cell_type": "code",
   "execution_count": 19,
   "metadata": {
    "slideshow": {
     "slide_type": "fragment"
    }
   },
   "outputs": [],
   "source": [
    "# Note you should use pd.read_csv because we imported pandas as pd!\n",
    "# Import the GSSsubset.csv file below\n"
   ]
  },
  {
   "cell_type": "markdown",
   "metadata": {
    "slideshow": {
     "slide_type": "slide"
    }
   },
   "source": [
    "### Let's Examine a Dataset\n",
    "\n",
    "When importing a dataset we should assign it to a variable for future use.\n",
    "\n",
    "Declare a variable name and assign the `read_csv()` function from earlier."
   ]
  },
  {
   "cell_type": "code",
   "execution_count": 20,
   "metadata": {
    "slideshow": {
     "slide_type": "fragment"
    }
   },
   "outputs": [],
   "source": [
    "# df is common short hand in Pandas for \"DataFrame\", which is the object type\n",
    "# created when importing a csv file\n",
    "# Using the read_csv() statement from above, store the dataframe in a variable named gss_df\n"
   ]
  },
  {
   "cell_type": "markdown",
   "metadata": {
    "slideshow": {
     "slide_type": "subslide"
    }
   },
   "source": [
    "### Preview the First Few Lines of a Dataset\n",
    "After we assign our dataset to a variable, we can preview it with `head()`\n",
    "\n",
    "Syntax: `dataFrame.head()`"
   ]
  },
  {
   "cell_type": "code",
   "execution_count": 21,
   "metadata": {
    "slideshow": {
     "slide_type": "fragment"
    }
   },
   "outputs": [],
   "source": [
    "# Preview the first few lines of the dataframe with head()\n"
   ]
  },
  {
   "cell_type": "markdown",
   "metadata": {
    "slideshow": {
     "slide_type": "subslide"
    }
   },
   "source": [
    "### Examine a Dataset\n",
    "\n",
    "`head()` let's us look at the first few lines of a file.\n",
    "\n",
    "`tail()` will let us look that last few lines of a file.\n",
    "\n",
    "`describe()` will give us summary information."
   ]
  },
  {
   "cell_type": "code",
   "execution_count": 22,
   "metadata": {
    "slideshow": {
     "slide_type": "fragment"
    }
   },
   "outputs": [],
   "source": [
    "# Preview the last few lines of the dataframe with tail()\n"
   ]
  },
  {
   "cell_type": "code",
   "execution_count": 23,
   "metadata": {
    "slideshow": {
     "slide_type": "fragment"
    }
   },
   "outputs": [],
   "source": [
    "# Print summary statistics for the dataframe using describe()\n",
    "# Try printing the results of describe() instead of calling the method directly on the dataframe\n"
   ]
  },
  {
   "cell_type": "markdown",
   "metadata": {},
   "source": [
    "---"
   ]
  },
  {
   "cell_type": "markdown",
   "metadata": {
    "slideshow": {
     "slide_type": "slide"
    }
   },
   "source": [
    "## Exercise 1: Examine a Dataset<a name='ex1'></a>\n",
    "\n",
    "- Import the dataset `car.csv`'\n",
    "- Preview the dataset\n",
    "    - Call the variable that you assigned to `car.csv`\n",
    "    - Call the `head()` function on the DataFrame"
   ]
  },
  {
   "cell_type": "code",
   "execution_count": 53,
   "metadata": {},
   "outputs": [],
   "source": [
    "# Import the dataset car.csv and assign it to a variable\n"
   ]
  },
  {
   "cell_type": "code",
   "execution_count": 54,
   "metadata": {},
   "outputs": [],
   "source": [
    "# Preview the dataset with head()\n"
   ]
  },
  {
   "cell_type": "markdown",
   "metadata": {},
   "source": [
    "---"
   ]
  },
  {
   "cell_type": "markdown",
   "metadata": {
    "slideshow": {
     "slide_type": "subslide"
    }
   },
   "source": [
    "## Examine the Dataset\n",
    "Where `df` is the name of your DataFrame:\n",
    "- `df.shape` \n",
    "    - Returns row x column\n",
    "- `df.columns`\n",
    "    - Returns a list of the column names\n",
    "- `df.index`\n",
    "    - Returns row information (range and step)\n",
    "- `df.info()`\n",
    "    - Returns list of variables, data type, count, size, etc.\n"
   ]
  },
  {
   "cell_type": "code",
   "execution_count": 3,
   "metadata": {},
   "outputs": [],
   "source": [
    "# Examine the GSS Dataset\n",
    "\n"
   ]
  },
  {
   "cell_type": "markdown",
   "metadata": {},
   "source": [
    "## Exercise 2: Examine the Dataset<a name='ex2'></a>\n",
    "- Examine the dimensions of `car.csv`\n",
    "    - How many rows does this dataset have?\n",
    "    - How many columns?\n",
    "    - What are the variable names?"
   ]
  },
  {
   "cell_type": "code",
   "execution_count": 24,
   "metadata": {
    "slideshow": {
     "slide_type": "fragment"
    }
   },
   "outputs": [],
   "source": [
    "# What is the shape of the dataframe?\n"
   ]
  },
  {
   "cell_type": "code",
   "execution_count": 27,
   "metadata": {},
   "outputs": [],
   "source": [
    "# What are the column names?\n"
   ]
  },
  {
   "cell_type": "code",
   "execution_count": 28,
   "metadata": {
    "slideshow": {
     "slide_type": "subslide"
    }
   },
   "outputs": [],
   "source": [
    "# What are the row names (indeces)?\n"
   ]
  },
  {
   "cell_type": "code",
   "execution_count": 29,
   "metadata": {
    "slideshow": {
     "slide_type": "fragment"
    }
   },
   "outputs": [],
   "source": [
    "# What are the data types for each variable?\n",
    "# Hint: Use info()\n"
   ]
  },
  {
   "cell_type": "code",
   "execution_count": 30,
   "metadata": {
    "slideshow": {
     "slide_type": "fragment"
    }
   },
   "outputs": [],
   "source": [
    "# Print the summary statistics for the dataframe\n"
   ]
  },
  {
   "cell_type": "markdown",
   "metadata": {},
   "source": [
    "---"
   ]
  },
  {
   "cell_type": "markdown",
   "metadata": {
    "slideshow": {
     "slide_type": "subslide"
    }
   },
   "source": [
    "## Subset the Dataset<a name='subset'></a>\n",
    "Refer to [this](https://cmdlinetips.com/2019/03/how-to-select-one-or-more-columns-in-pandas/) article for a more in-depth explanation of subsetting in Pandas."
   ]
  },
  {
   "cell_type": "markdown",
   "metadata": {
    "slideshow": {
     "slide_type": "subslide"
    }
   },
   "source": [
    "|1. Subset by row/column name|2. Subset by row/column index|3. Subset by variable name|4. Subset by specific criteria|\n",
    "|:---|:---|:---|:---|\n",
    "|**`df.loc[rowname, colname]`**|**`df.iloc[rowindex, colindex]`**|**`df['colname']`**<br>**`df.colname`**|**`data[data['variable'] <operator> 'criteria']`**|\n",
    "|- `data.loc[2, 'degree']`<br>- `data.loc[:3,'id':'income']`<br>- `data.loc[[1,3,5],['id', 'degree', 'income']`|- `data.iloc[1, 3]`<br>- `data.iloc[:5,]`<br>- `data.iloc[900:, [2,3,5,8]]`|- `data['id']`<br> - `data[['id', 'degree', 'income']]`<br>- `data.degree`|- `data[data['age'] < 50]`<br>- `data[data['sex'] == 'MALE']`<br>- `data[(data['age'] < 50) & (data['sex'] == 'MALE')]`|"
   ]
  },
  {
   "cell_type": "code",
   "execution_count": 31,
   "metadata": {
    "slideshow": {
     "slide_type": "subslide"
    }
   },
   "outputs": [
    {
     "ename": "NameError",
     "evalue": "name 'gss_df' is not defined",
     "output_type": "error",
     "traceback": [
      "\u001b[0;31m---------------------------------------------------------------------------\u001b[0m",
      "\u001b[0;31mNameError\u001b[0m                                 Traceback (most recent call last)",
      "\u001b[0;32m<ipython-input-31-3068db65c5a4>\u001b[0m in \u001b[0;36m<module>\u001b[0;34m()\u001b[0m\n\u001b[1;32m      1\u001b[0m \u001b[0;31m# Here is an example of a subset for males less than 50 years of age\u001b[0m\u001b[0;34m\u001b[0m\u001b[0;34m\u001b[0m\u001b[0;34m\u001b[0m\u001b[0m\n\u001b[1;32m      2\u001b[0m \u001b[0;31m# Note that this expression includes the head() method...\u001b[0m\u001b[0;34m\u001b[0m\u001b[0;34m\u001b[0m\u001b[0;34m\u001b[0m\u001b[0m\n\u001b[0;32m----> 3\u001b[0;31m \u001b[0mgss_df\u001b[0m\u001b[0;34m[\u001b[0m\u001b[0;34m(\u001b[0m\u001b[0mgss_df\u001b[0m\u001b[0;34m[\u001b[0m\u001b[0;34m'age'\u001b[0m\u001b[0;34m]\u001b[0m \u001b[0;34m<\u001b[0m \u001b[0;36m50\u001b[0m\u001b[0;34m)\u001b[0m \u001b[0;34m&\u001b[0m \u001b[0;34m(\u001b[0m\u001b[0mgss_df\u001b[0m\u001b[0;34m[\u001b[0m\u001b[0;34m'sex'\u001b[0m\u001b[0;34m]\u001b[0m \u001b[0;34m==\u001b[0m \u001b[0;34m'MALE'\u001b[0m\u001b[0;34m)\u001b[0m\u001b[0;34m]\u001b[0m\u001b[0;34m.\u001b[0m\u001b[0mhead\u001b[0m\u001b[0;34m(\u001b[0m\u001b[0;34m)\u001b[0m\u001b[0;34m\u001b[0m\u001b[0;34m\u001b[0m\u001b[0m\n\u001b[0m",
      "\u001b[0;31mNameError\u001b[0m: name 'gss_df' is not defined"
     ]
    }
   ],
   "source": [
    "# Here is an example of a subset for males less than 50 years of age\n",
    "# Note that this expression includes the head() method...\n",
    "gss_df[(gss_df['age'] < 50) & (gss_df['sex'] == 'MALE')].head()"
   ]
  },
  {
   "cell_type": "markdown",
   "metadata": {},
   "source": [
    "---"
   ]
  },
  {
   "cell_type": "markdown",
   "metadata": {
    "slideshow": {
     "slide_type": "slide"
    }
   },
   "source": [
    "## Exercise 3<a name='ex3'></a>\n",
    "\n",
    "Using the dataset car.csv, create subsets that meet the following criteria: \n",
    "\n",
    " - Include only cars made from USA\n",
    "     - Name this new subset data to be “usacar”. \n",
    "     - How many cars do this new dataset contain? Answer: 147\n",
    "     \n",
    " - Include cars that are made from USA AND their MSRP is larger than $40,000. \n",
    "     - Name this new subset data to be “usa40k”. \n",
    "     - How many cars do this new dataset contain?    Answer: 25 "
   ]
  },
  {
   "cell_type": "code",
   "execution_count": 40,
   "metadata": {},
   "outputs": [],
   "source": [
    "# Input your code below\n"
   ]
  },
  {
   "cell_type": "markdown",
   "metadata": {},
   "source": [
    "---"
   ]
  },
  {
   "cell_type": "markdown",
   "metadata": {
    "slideshow": {
     "slide_type": "slide"
    }
   },
   "source": [
    "## Summary Report<a name='sumrep'></a>\n",
    "- Summary of each variable: `df.describe()`\n",
    "- Summary statistics for subgroups/categories: \n",
    "    - **Example question:** According to this dataset, what is the average income by sex?"
   ]
  },
  {
   "cell_type": "code",
   "execution_count": 41,
   "metadata": {
    "slideshow": {
     "slide_type": "fragment"
    }
   },
   "outputs": [
    {
     "ename": "NameError",
     "evalue": "name 'gss_df' is not defined",
     "output_type": "error",
     "traceback": [
      "\u001b[0;31m---------------------------------------------------------------------------\u001b[0m",
      "\u001b[0;31mNameError\u001b[0m                                 Traceback (most recent call last)",
      "\u001b[0;32m<ipython-input-41-777e63fecb27>\u001b[0m in \u001b[0;36m<module>\u001b[0;34m()\u001b[0m\n\u001b[0;32m----> 1\u001b[0;31m \u001b[0mprint\u001b[0m\u001b[0;34m(\u001b[0m\u001b[0mgss_df\u001b[0m\u001b[0;34m.\u001b[0m\u001b[0mgroupby\u001b[0m\u001b[0;34m(\u001b[0m\u001b[0;34m[\u001b[0m\u001b[0;34m'sex'\u001b[0m\u001b[0;34m]\u001b[0m\u001b[0;34m)\u001b[0m\u001b[0;34m[\u001b[0m\u001b[0;34m[\u001b[0m\u001b[0;34m'income'\u001b[0m\u001b[0;34m]\u001b[0m\u001b[0;34m]\u001b[0m\u001b[0;34m.\u001b[0m\u001b[0maggregate\u001b[0m\u001b[0;34m(\u001b[0m\u001b[0;34m'mean'\u001b[0m\u001b[0;34m)\u001b[0m\u001b[0;34m)\u001b[0m\u001b[0;34m\u001b[0m\u001b[0;34m\u001b[0m\u001b[0m\n\u001b[0m",
      "\u001b[0;31mNameError\u001b[0m: name 'gss_df' is not defined"
     ]
    }
   ],
   "source": [
    "print(gss_df.groupby(['sex'])[['income']].aggregate('mean'))"
   ]
  },
  {
   "cell_type": "markdown",
   "metadata": {},
   "source": [
    "---"
   ]
  },
  {
   "cell_type": "markdown",
   "metadata": {
    "slideshow": {
     "slide_type": "slide"
    }
   },
   "source": [
    "## Exercise 4: Answering Questions with Data<a name='ex4'></a>\n",
    "- Based on the car.csv dataset, what is the average MSRP for cars made from Asia, Europe and USA, respectively?\n",
    "\n",
    "    - Answer: 24741.32, 48349.80, 28377.44"
   ]
  },
  {
   "cell_type": "code",
   "execution_count": 1,
   "metadata": {},
   "outputs": [],
   "source": [
    "# Input your code below\n"
   ]
  },
  {
   "cell_type": "markdown",
   "metadata": {},
   "source": [
    "---"
   ]
  },
  {
   "cell_type": "markdown",
   "metadata": {
    "slideshow": {
     "slide_type": "slide"
    }
   },
   "source": [
    "## Plotting in Python/Pandas<a name='plots'></a>\n",
    "We need to import `matplotlib`, a popular scientific plotting library"
   ]
  },
  {
   "cell_type": "code",
   "execution_count": 48,
   "metadata": {
    "slideshow": {
     "slide_type": "fragment"
    }
   },
   "outputs": [],
   "source": [
    "# This command forces plots to display in Jupyter Notebooks\n",
    "%matplotlib inline \n",
    "# This command imports matplotlib and assigns the alias plt\n",
    "import matplotlib.pyplot as plt"
   ]
  },
  {
   "cell_type": "markdown",
   "metadata": {
    "slideshow": {
     "slide_type": "subslide"
    }
   },
   "source": [
    "### Univariate Graph: Histogram\n",
    "More information on plotting historgrams [here](https://pythonspot.com/matplotlib-histogram/)"
   ]
  },
  {
   "cell_type": "code",
   "execution_count": 49,
   "metadata": {
    "slideshow": {
     "slide_type": "fragment"
    }
   },
   "outputs": [
    {
     "ename": "NameError",
     "evalue": "name 'gss_df' is not defined",
     "output_type": "error",
     "traceback": [
      "\u001b[0;31m---------------------------------------------------------------------------\u001b[0m",
      "\u001b[0;31mNameError\u001b[0m                                 Traceback (most recent call last)",
      "\u001b[0;32m<ipython-input-49-6a900166762f>\u001b[0m in \u001b[0;36m<module>\u001b[0;34m()\u001b[0m\n\u001b[1;32m      1\u001b[0m \u001b[0;31m# Graph the data\u001b[0m\u001b[0;34m\u001b[0m\u001b[0;34m\u001b[0m\u001b[0;34m\u001b[0m\u001b[0m\n\u001b[0;32m----> 2\u001b[0;31m \u001b[0mplt\u001b[0m\u001b[0;34m.\u001b[0m\u001b[0mhist\u001b[0m\u001b[0;34m(\u001b[0m\u001b[0mgss_df\u001b[0m\u001b[0;34m[\u001b[0m\u001b[0;34m'income'\u001b[0m\u001b[0;34m]\u001b[0m\u001b[0;34m,\u001b[0m \u001b[0medgecolor\u001b[0m\u001b[0;34m=\u001b[0m\u001b[0;34m'black'\u001b[0m\u001b[0;34m,\u001b[0m \u001b[0mlinewidth\u001b[0m\u001b[0;34m=\u001b[0m\u001b[0;34m'1'\u001b[0m\u001b[0;34m,\u001b[0m \u001b[0malpha\u001b[0m\u001b[0;34m=\u001b[0m\u001b[0;36m0.5\u001b[0m\u001b[0;34m)\u001b[0m\u001b[0;34m\u001b[0m\u001b[0;34m\u001b[0m\u001b[0m\n\u001b[0m\u001b[1;32m      3\u001b[0m \u001b[0;31m# Add title and axes labels\u001b[0m\u001b[0;34m\u001b[0m\u001b[0;34m\u001b[0m\u001b[0;34m\u001b[0m\u001b[0m\n\u001b[1;32m      4\u001b[0m \u001b[0mplt\u001b[0m\u001b[0;34m.\u001b[0m\u001b[0mtitle\u001b[0m\u001b[0;34m(\u001b[0m\u001b[0;34m'Histogram of Income'\u001b[0m\u001b[0;34m)\u001b[0m\u001b[0;34m\u001b[0m\u001b[0;34m\u001b[0m\u001b[0m\n\u001b[1;32m      5\u001b[0m \u001b[0mplt\u001b[0m\u001b[0;34m.\u001b[0m\u001b[0mxlabel\u001b[0m\u001b[0;34m(\u001b[0m\u001b[0;34m'Annual Income'\u001b[0m\u001b[0;34m)\u001b[0m\u001b[0;34m\u001b[0m\u001b[0;34m\u001b[0m\u001b[0m\n",
      "\u001b[0;31mNameError\u001b[0m: name 'gss_df' is not defined"
     ]
    }
   ],
   "source": [
    "# Graph the data\n",
    "plt.hist(gss_df['income'], edgecolor='black', linewidth='1', alpha=0.5)\n",
    "# Add title and axes labels\n",
    "plt.title('Histogram of Income')\n",
    "plt.xlabel('Annual Income')\n",
    "plt.ylabel('Frequency')"
   ]
  },
  {
   "cell_type": "markdown",
   "metadata": {
    "slideshow": {
     "slide_type": "subslide"
    }
   },
   "source": [
    "### Another way to Create a Histogram\n",
    "The `plot()` function is useful for when you don't want to mess with the aesthetics of graph."
   ]
  },
  {
   "cell_type": "code",
   "execution_count": 50,
   "metadata": {
    "scrolled": true,
    "slideshow": {
     "slide_type": "fragment"
    }
   },
   "outputs": [
    {
     "ename": "NameError",
     "evalue": "name 'gss_df' is not defined",
     "output_type": "error",
     "traceback": [
      "\u001b[0;31m---------------------------------------------------------------------------\u001b[0m",
      "\u001b[0;31mNameError\u001b[0m                                 Traceback (most recent call last)",
      "\u001b[0;32m<ipython-input-50-de2e12876859>\u001b[0m in \u001b[0;36m<module>\u001b[0;34m()\u001b[0m\n\u001b[0;32m----> 1\u001b[0;31m \u001b[0mgss_df\u001b[0m\u001b[0;34m[\u001b[0m\u001b[0;34m'income'\u001b[0m\u001b[0;34m]\u001b[0m\u001b[0;34m.\u001b[0m\u001b[0mplot\u001b[0m\u001b[0;34m(\u001b[0m\u001b[0mkind\u001b[0m\u001b[0;34m=\u001b[0m\u001b[0;34m'hist'\u001b[0m\u001b[0;34m,\u001b[0m \u001b[0mtitle\u001b[0m\u001b[0;34m=\u001b[0m\u001b[0;34m'Histogram of Income'\u001b[0m\u001b[0;34m)\u001b[0m\u001b[0;34m.\u001b[0m\u001b[0mset\u001b[0m\u001b[0;34m(\u001b[0m\u001b[0mxlabel\u001b[0m\u001b[0;34m=\u001b[0m\u001b[0;34m'Annual Income'\u001b[0m\u001b[0;34m)\u001b[0m\u001b[0;34m\u001b[0m\u001b[0;34m\u001b[0m\u001b[0m\n\u001b[0m",
      "\u001b[0;31mNameError\u001b[0m: name 'gss_df' is not defined"
     ]
    }
   ],
   "source": [
    "gss_df['income'].plot(kind='hist', title='Histogram of Income').set(xlabel='Annual Income')"
   ]
  },
  {
   "cell_type": "markdown",
   "metadata": {
    "slideshow": {
     "slide_type": "subslide"
    }
   },
   "source": [
    "### Univariate Graph: Bar Chart"
   ]
  },
  {
   "cell_type": "code",
   "execution_count": 49,
   "metadata": {
    "slideshow": {
     "slide_type": "fragment"
    }
   },
   "outputs": [
    {
     "data": {
      "text/plain": [
       "<matplotlib.axes._subplots.AxesSubplot at 0x1c18c6ee10>"
      ]
     },
     "execution_count": 49,
     "metadata": {},
     "output_type": "execute_result"
    },
    {
     "data": {
      "image/png": "[encoded data removed]",
      "text/plain": [
       "<Figure size 432x288 with 1 Axes>"
      ]
     },
     "metadata": {},
     "output_type": "display_data"
    }
   ],
   "source": [
    "# To plot a single variable on a bar chart, we need\n",
    "# to count the individual values first\n",
    "gss_df['marital'].value_counts().plot(kind='bar')"
   ]
  },
  {
   "cell_type": "markdown",
   "metadata": {
    "slideshow": {
     "slide_type": "subslide"
    }
   },
   "source": [
    "### Bivariate Graph: Scatterplot"
   ]
  },
  {
   "cell_type": "code",
   "execution_count": 51,
   "metadata": {
    "slideshow": {
     "slide_type": "fragment"
    }
   },
   "outputs": [
    {
     "data": {
      "text/plain": [
       "Text(0,0.5,'Annual Income')"
      ]
     },
     "execution_count": 51,
     "metadata": {},
     "output_type": "execute_result"
    },
    {
     "data": {
      "image/png": "[encoded data removed]",
      "text/plain": [
       "<Figure size 432x288 with 1 Axes>"
      ]
     },
     "metadata": {},
     "output_type": "display_data"
    }
   ],
   "source": [
    "# Graph the data\n",
    "plt.scatter(gss_df['hrswrk'], gss_df['income'])\n",
    "# Set the axes and title labels\n",
    "plt.title('Plot of Income and Working Hours')\n",
    "plt.xlabel('Working Hours')\n",
    "plt.ylabel('Annual Income')"
   ]
  },
  {
   "cell_type": "markdown",
   "metadata": {
    "slideshow": {
     "slide_type": "slide"
    }
   },
   "source": [
    "## Exercise 5: Plot Some Data<a name='ex5'></a>\n",
    "\n",
    "Using “car.csv”, \n",
    "\n",
    "1. Plot a histogram on MSRP\n",
    "2. Plot a bar chart on car’s Origin \n",
    "3. Draw a scatter plot showing the relation between MSRP (Y axis) and Horsepower (X axis)"
   ]
  },
  {
   "cell_type": "code",
   "execution_count": 51,
   "metadata": {},
   "outputs": [],
   "source": [
    "# Plot the histogram on MSRP\n"
   ]
  },
  {
   "cell_type": "code",
   "execution_count": 52,
   "metadata": {},
   "outputs": [],
   "source": [
    "# Plot a bar chart on car’s Origin\n"
   ]
  },
  {
   "cell_type": "code",
   "execution_count": null,
   "metadata": {},
   "outputs": [],
   "source": [
    "# Draw a scatter plot showing the relation between MSRP (Y axis) and Horsepower (X axis)"
   ]
  },
  {
   "cell_type": "markdown",
   "metadata": {},
   "source": [
    "---"
   ]
  },
  {
   "cell_type": "markdown",
   "metadata": {
    "slideshow": {
     "slide_type": "slide"
    }
   },
   "source": [
    "## Simple Linear Regression<a name='model'></a>\n",
    "<center>${y} = \\beta_0+\\beta_1{x}+{e}$</center>\n",
    "- ${y}$ : dependent variable\n",
    "- ${x}$ : independent variable\n",
    "- ${e}$ : error term\n",
    "- $\\beta_0$ : intercept\n",
    "- $\\beta_1$ : slope"
   ]
  },
  {
   "cell_type": "markdown",
   "metadata": {
    "slideshow": {
     "slide_type": "subslide"
    }
   },
   "source": [
    "1. **F-test ${p}$-value**: *Is this model statistically significant?*\n",
    "2. **${r}^2$**: *How much variance in ${y}$ can be explained by the variance in ${x}$?*\n",
    "3. **Intercept**\n",
    "4. **Slope**"
   ]
  },
  {
   "cell_type": "markdown",
   "metadata": {},
   "source": [
    "### Linear Regressions using statsmodels.formula.api"
   ]
  },
  {
   "cell_type": "code",
   "execution_count": 25,
   "metadata": {
    "slideshow": {
     "slide_type": "subslide"
    }
   },
   "outputs": [
    {
     "name": "stdout",
     "output_type": "stream",
     "text": [
      "                            OLS Regression Results                            \n",
      "==============================================================================\n",
      "Dep. Variable:                 income   R-squared:                       0.118\n",
      "Model:                            OLS   Adj. R-squared:                  0.117\n",
      "Method:                 Least Squares   F-statistic:                     132.3\n",
      "Date:                Tue, 23 Jul 2019   Prob (F-statistic):           7.79e-29\n",
      "Time:                        10:42:40   Log-Likelihood:                -11740.\n",
      "No. Observations:                 994   AIC:                         2.348e+04\n",
      "Df Residuals:                     992   BIC:                         2.349e+04\n",
      "Df Model:                           1                                         \n",
      "Covariance Type:            nonrobust                                         \n",
      "==============================================================================\n",
      "                 coef    std err          t      P>|t|      [0.025      0.975]\n",
      "------------------------------------------------------------------------------\n",
      "Intercept   1621.4901   3235.485      0.501      0.616   -4727.690    7970.670\n",
      "hrswrk       827.0410     71.895     11.503      0.000     685.957     968.125\n",
      "==============================================================================\n",
      "Omnibus:                      421.362   Durbin-Watson:                   1.708\n",
      "Prob(Omnibus):                  0.000   Jarque-Bera (JB):             1713.357\n",
      "Skew:                           2.027   Prob(JB):                         0.00\n",
      "Kurtosis:                       7.993   Cond. No.                         141.\n",
      "==============================================================================\n",
      "\n",
      "Warnings:\n",
      "[1] Standard Errors assume that the covariance matrix of the errors is correctly specified.\n"
     ]
    }
   ],
   "source": [
    "import statsmodels.formula.api as smf\n",
    "\n",
    "# This is the easier way of implementing a linear model using\n",
    "# R-like formulas\n",
    "model1 = smf.ols(formula='income ~ hrswrk', data=gss_df).fit() # Note the lowercase 'ols'\n",
    "print(model1.summary())                                        # Required to use patsy formulae"
   ]
  },
  {
   "cell_type": "markdown",
   "metadata": {},
   "source": [
    "---"
   ]
  },
  {
   "cell_type": "markdown",
   "metadata": {
    "slideshow": {
     "slide_type": "slide"
    }
   },
   "source": [
    "## Exercise 6<a name='ex6'></a>\n",
    "### Use the undergraduate subset created in Exercise 4\n",
    "Using the car.csv data, answer the following questions:\n",
    "\n",
    " - Run a simple linear regression explaining MSRP by Horsepower\n",
    " - Using the regression output, write down the model equation as comment in your script\n",
    " - Is the model significant on alpha = 0.05? "
   ]
  },
  {
   "cell_type": "code",
   "execution_count": 31,
   "metadata": {
    "scrolled": true,
    "slideshow": {
     "slide_type": "subslide"
    }
   },
   "outputs": [
    {
     "name": "stdout",
     "output_type": "stream",
     "text": [
      "                            OLS Regression Results                            \n",
      "==============================================================================\n",
      "Dep. Variable:          book_checkout   R-squared:                       0.216\n",
      "Model:                            OLS   Adj. R-squared:                  0.188\n",
      "Method:                 Least Squares   F-statistic:                     7.714\n",
      "Date:                Tue, 23 Jul 2019   Prob (F-statistic):            0.00967\n",
      "Time:                        10:54:33   Log-Likelihood:                -217.97\n",
      "No. Observations:                  30   AIC:                             439.9\n",
      "Df Residuals:                      28   BIC:                             442.7\n",
      "Df Model:                           1                                         \n",
      "Covariance Type:            nonrobust                                         \n",
      "===================================================================================\n",
      "                      coef    std err          t      P>|t|      [0.025      0.975]\n",
      "-----------------------------------------------------------------------------------\n",
      "Intercept        1316.3691    158.720      8.294      0.000     991.245    1641.493\n",
      "laptop_checkout     0.7280      0.262      2.777      0.010       0.191       1.265\n",
      "==============================================================================\n",
      "Omnibus:                        1.573   Durbin-Watson:                   2.523\n",
      "Prob(Omnibus):                  0.455   Jarque-Bera (JB):                1.193\n",
      "Skew:                           0.481   Prob(JB):                        0.551\n",
      "Kurtosis:                       2.832   Cond. No.                     1.47e+03\n",
      "==============================================================================\n",
      "\n",
      "Warnings:\n",
      "[1] Standard Errors assume that the covariance matrix of the errors is correctly specified.\n",
      "[2] The condition number is large, 1.47e+03. This might indicate that there are\n",
      "strong multicollinearity or other numerical problems.\n"
     ]
    }
   ],
   "source": []
  },
  {
   "cell_type": "markdown",
   "metadata": {},
   "source": [
    "---"
   ]
  },
  {
   "cell_type": "markdown",
   "metadata": {
    "slideshow": {
     "slide_type": "slide"
    }
   },
   "source": [
    "## Thank you!\n",
    "\n",
    "\n",
    "\n",
    "### David Durden\n",
    "✉️ [durden@umd.edu](mailto:durden@umd.edu)<br>\n",
    "🖥 [https://lib.umd.edu/data]()\n",
    "\n",
    "### Yishan Ding\n",
    "✉️ [ysding@umd.edu](mailto:ysding@umd.edu)<br>\n",
    "🖥 [https://lib.umd.edu/rc/statistical-consulting]()"
   ]
  }
 ],
 "metadata": {
  "kernelspec": {
   "display_name": "Python 3",
   "language": "python",
   "name": "python3"
  },
  "language_info": {
   "codemirror_mode": {
    "name": "ipython",
    "version": 3
   },
   "file_extension": ".py",
   "mimetype": "text/x-python",
   "name": "python",
   "nbconvert_exporter": "python",
   "pygments_lexer": "ipython3",
   "version": "3.7.3"
  }
 },
 "nbformat": 4,
 "nbformat_minor": 2
}
