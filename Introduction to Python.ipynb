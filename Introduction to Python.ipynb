{
 "cells": [
  {
   "cell_type": "markdown",
   "metadata": {
    "slideshow": {
     "slide_type": "slide"
    }
   },
   "source": [
    "# Introduction to Python<br>Basics of Data Analysis Using Pandas\n",
    "\n",
    "David Durden, Data Services Librarian <br>\n",
    "Yishan Ding, Statistical Consulting Graduate Assistant\n",
    "\n",
    "<img src=\"assets/python-logo-master-v3-TM.png\" alt=\"Python Logo\" width=\"200\" align=\"right\"/>\n",
    "\n"
   ]
  },
  {
   "cell_type": "markdown",
   "metadata": {
    "slideshow": {
     "slide_type": "slide"
    }
   },
   "source": [
    "## What is Python?\n",
    "\n",
    "- An interpreted high-level general-purpose programming language\n",
    "- Both a programming language and a tool that executes scripts written in Python\n",
    "- Python was created Guido van Rossum and released in 1991\n",
    "\n",
    "<img src=\"assets/800px-Guido_van_Rossum_OSCON_2006_cropped.png\" alt=\"Guido van Rossum\" width=\"100\" align=\"right\"/>\n",
    "\n",
    "## Why use Python?\n",
    "\n",
    "- Free\n",
    "- Open-source with active development\n",
    "- Available on all major OS's (MacOS, Linux, Windows)\n",
    "- Large community\n",
    "- Easy-to-learn*\n",
    "- Encourages re-use and reproducibility\n",
    "- Interdisciplinary and extensible\n"
   ]
  },
  {
   "cell_type": "markdown",
   "metadata": {
    "slideshow": {
     "slide_type": "slide"
    }
   },
   "source": [
    "## Species of Python\n",
    "[Anaconda](https://www.anaconda.com/) is a specific distribution of Python that includes a lot of popular packages by default, including IPython console, Jupyter Notebook, Pandas, and others.\n",
    "\n",
    "Several OS's come with Python installed by default. However, the system Python is often used by the operating system. Modifying the system Python *can* result in some programs not working correctly."
   ]
  },
  {
   "cell_type": "markdown",
   "metadata": {
    "slideshow": {
     "slide_type": "slide"
    }
   },
   "source": [
    "## Outline for Today's Workshop\n",
    "- Some basic Python commands\n",
    "- Data import and preview\n",
    "- Summary statistics and reporting\n",
    "- Simple plots\n",
    "- Simple Linear Regression"
   ]
  },
  {
   "cell_type": "markdown",
   "metadata": {
    "slideshow": {
     "slide_type": "slide"
    }
   },
   "source": [
    "## Set Up Your Environment\n",
    "\n",
    "We will be using a Jupyter Notebook for this workshop to avoid having to edit text files and execute them at the Command Line.\n",
    "\n",
    "Python can be run in interactive mode: You can type commands directly into the Python interpreter and see results. Open your Command Prompt or Terminal application and type `python`.\n",
    "\n",
    "Using the interpreter is useful for testing code and getting immediate results. However, you cannot easily edit those commands or save your work. "
   ]
  },
  {
   "cell_type": "markdown",
   "metadata": {
    "slideshow": {
     "slide_type": "subslide"
    }
   },
   "source": [
    "### Creating Python Scripts\n",
    "Instead of using the interpreter, we can also write Python programs and then run them.\n",
    "\n",
    "To get started, use a plain text editor like:\n",
    "- [BBedit](https://www.barebones.com/products/bbedit/index.html)\n",
    "- [Atom](https://atom.io/)\n",
    "- [Notepad++](https://notepad-plus-plus.org/)\n",
    "\n",
    "Text documents should be set up a specific way in order to read a valid Python code.\n",
    "- The first line of your document should always be: `#! /usr/bin/env python`\n",
    "- Save your file with `.py`\n",
    "\n",
    "When you have written a program, you can run it using the following basic command: `python my_program.py`"
   ]
  },
  {
   "cell_type": "markdown",
   "metadata": {
    "slideshow": {
     "slide_type": "slide"
    }
   },
   "source": [
    "## Getting Started\n",
    "\n",
    "- Meet the print statement\n",
    "    - `print(\"Hello World!\")`"
   ]
  },
  {
   "cell_type": "code",
   "execution_count": 1,
   "metadata": {
    "slideshow": {
     "slide_type": "fragment"
    }
   },
   "outputs": [
    {
     "name": "stdout",
     "output_type": "stream",
     "text": [
      "Hello World!\n"
     ]
    }
   ],
   "source": [
    "print(\"Hello World!\")"
   ]
  },
  {
   "cell_type": "markdown",
   "metadata": {
    "slideshow": {
     "slide_type": "fragment"
    }
   },
   "source": [
    "**Fun fact**: Printing `Hello world!` to the screen is a rhetorical function used by programmers to test that their systems are operating correctly. Incidentally, this has also become one of the first programs that you learn in almost every programming language. The creation of this function is attributed to Brian Kernighan, who first published it in a code snippet in *A Tutorial Introduction to the Programming Language B* in 1973."
   ]
  },
  {
   "cell_type": "markdown",
   "metadata": {
    "slideshow": {
     "slide_type": "subslide"
    }
   },
   "source": [
    "### Assign values to a variable\n",
    "You can store anything in a variable in Python. \n",
    "- `x = 3 # Assign a single integer value`\n",
    "- `y = [1, 2, 3] # Assign a list of integer values`\n",
    "- `z = [\"a\", \"b\", \"c\"] # Assign a list of character values`\n",
    "- `a = [y, z] # Assign a list of variables`\n",
    "- `b = a # Assign a variable to a variable`"
   ]
  },
  {
   "cell_type": "code",
   "execution_count": 2,
   "metadata": {
    "slideshow": {
     "slide_type": "fragment"
    }
   },
   "outputs": [
    {
     "name": "stdout",
     "output_type": "stream",
     "text": [
      "3\n",
      "[1, 2, 3]\n",
      "['a', 'b', 'c']\n",
      "[3, [1, 2, 3]]\n",
      "[3, [1, 2, 3]]\n"
     ]
    }
   ],
   "source": [
    "x = 3 # Assign a single integer value\n",
    "y = [1, 2, 3] # Assign a list of integer values\n",
    "z = [\"a\", \"b\", \"c\"] # Assign a list of character values\n",
    "a = [x, y] # Assign a list of variables\n",
    "b = a\n",
    "\n",
    "print(x)\n",
    "print(y)\n",
    "print(z)\n",
    "print(a)\n",
    "print(b)"
   ]
  },
  {
   "cell_type": "markdown",
   "metadata": {
    "slideshow": {
     "slide_type": "subslide"
    }
   },
   "source": [
    "### Using Python as a Calculator\n",
    "\n",
    "- `35*40/4`\n",
    "- `from math import sqrt`\n",
    "    - `sqrt(2)`"
   ]
  },
  {
   "cell_type": "code",
   "execution_count": 3,
   "metadata": {
    "slideshow": {
     "slide_type": "fragment"
    }
   },
   "outputs": [
    {
     "data": {
      "text/plain": [
       "350.0"
      ]
     },
     "execution_count": 3,
     "metadata": {},
     "output_type": "execute_result"
    }
   ],
   "source": [
    "35*40/4"
   ]
  },
  {
   "cell_type": "code",
   "execution_count": 4,
   "metadata": {
    "slideshow": {
     "slide_type": "fragment"
    }
   },
   "outputs": [
    {
     "data": {
      "text/plain": [
       "1.4142135623730951"
      ]
     },
     "execution_count": 4,
     "metadata": {},
     "output_type": "execute_result"
    }
   ],
   "source": [
    "from math import sqrt\n",
    "sqrt(2)"
   ]
  },
  {
   "cell_type": "markdown",
   "metadata": {
    "slideshow": {
     "slide_type": "slide"
    }
   },
   "source": [
    "## 5 Basic Atomic Classes\n",
    "\n",
    "Class     | Example\n",
    "--------- | -------\n",
    "Integer   | `3` or `int(3)`\n",
    "Float     | `3.1415` or `float(6/5)`\n",
    "Character | `\"a\"`, `\"b\"`, `\"University of Maryland\"` or `str()`\n",
    "Logical   | `True`, `False` or `bool()`\n",
    "Complex   | `1+4j` or `complex(1, 4)`\n",
    "\n",
    "- To determine an object type, use `type()`\n",
    "- To test if an object is a specific type, use `isinstance()`\n",
    "- To change type, use `int()`, `float()`, `str()`, `bool()`, `complex()`\n"
   ]
  },
  {
   "cell_type": "code",
   "execution_count": 5,
   "metadata": {
    "slideshow": {
     "slide_type": "fragment"
    }
   },
   "outputs": [
    {
     "data": {
      "text/plain": [
       "int"
      ]
     },
     "execution_count": 5,
     "metadata": {},
     "output_type": "execute_result"
    }
   ],
   "source": [
    "type(3)"
   ]
  },
  {
   "cell_type": "code",
   "execution_count": 6,
   "metadata": {
    "slideshow": {
     "slide_type": "fragment"
    }
   },
   "outputs": [
    {
     "data": {
      "text/plain": [
       "float"
      ]
     },
     "execution_count": 6,
     "metadata": {},
     "output_type": "execute_result"
    }
   ],
   "source": [
    "type(3.1415)"
   ]
  },
  {
   "cell_type": "code",
   "execution_count": 7,
   "metadata": {
    "slideshow": {
     "slide_type": "fragment"
    }
   },
   "outputs": [
    {
     "data": {
      "text/plain": [
       "str"
      ]
     },
     "execution_count": 7,
     "metadata": {},
     "output_type": "execute_result"
    }
   ],
   "source": [
    "type(\"Testudo\")"
   ]
  },
  {
   "cell_type": "code",
   "execution_count": 8,
   "metadata": {
    "slideshow": {
     "slide_type": "fragment"
    }
   },
   "outputs": [
    {
     "data": {
      "text/plain": [
       "True"
      ]
     },
     "execution_count": 8,
     "metadata": {},
     "output_type": "execute_result"
    }
   ],
   "source": [
    "foo = 6/5\n",
    "isinstance(foo, float)"
   ]
  },
  {
   "cell_type": "code",
   "execution_count": 9,
   "metadata": {
    "slideshow": {
     "slide_type": "fragment"
    }
   },
   "outputs": [
    {
     "data": {
      "text/plain": [
       "(1+4j)"
      ]
     },
     "execution_count": 9,
     "metadata": {},
     "output_type": "execute_result"
    }
   ],
   "source": [
    "complex(1, 4)"
   ]
  },
  {
   "cell_type": "markdown",
   "metadata": {
    "slideshow": {
     "slide_type": "slide"
    }
   },
   "source": [
    "## Pandas: The Python Data Analysis Library\n",
    "\n",
    "[Pandas](https://pandas.pydata.org/) is already included by default in Anaconda Python. If you are using a different distribution you will have to download and install Pandas.\n",
    "\n",
    "Pandas provides easy-to-use methods for working with data structures and performing data analysis using the Python language and enviroment.\n",
    "\n",
    "Many of the commands and capabilities are similar to R.\n"
   ]
  },
  {
   "cell_type": "code",
   "execution_count": 10,
   "metadata": {
    "slideshow": {
     "slide_type": "fragment"
    }
   },
   "outputs": [],
   "source": [
    "# To get started using Pandas we have to import it first\n",
    "import pandas\n",
    "\n",
    "# Imported libraries can be aliased to make code shorter \n",
    "# and easier to type\n",
    "# pd is the common alias for Pandas\n",
    "import pandas as pd\n",
    "# This is an optional parameter to limit the amount of \n",
    "# rows printed to the screen\n",
    "pd.set_option('display.max_rows', 10) "
   ]
  },
  {
   "cell_type": "markdown",
   "metadata": {
    "slideshow": {
     "slide_type": "slide"
    }
   },
   "source": [
    "## Basic Commands\n",
    "\n",
    "These are the basic commands when working with DataFrames in Pandas\n",
    "\n",
    "- `df.max()`\n",
    "- `df.min()`\n",
    "- `df.mean()`\n",
    "- `df.median()`\n",
    "- sum\n",
    "    - `df.sum()`\n",
    "    - `df.cumsum()`\n",
    "- var # Still need this one\n",
    "- `df.std()`"
   ]
  },
  {
   "cell_type": "markdown",
   "metadata": {
    "slideshow": {
     "slide_type": "subslide"
    }
   },
   "source": [
    "### More Basic Commands\n",
    "\n",
    "- length\n",
    "    - `len(x) # Returns the length of x`\n",
    "    - `df.count()`\n",
    "- summary\n",
    "    - `df.describe()`\n",
    "- table # No direct translation\n",
    "- x\\[\\] # Indexing operator?\n"
   ]
  },
  {
   "cell_type": "markdown",
   "metadata": {
    "slideshow": {
     "slide_type": "slide"
    }
   },
   "source": [
    "## Import a Dataset\n",
    "\n",
    "We will begin by importing the `GSSsubset.csv` file\n",
    "\n",
    "Pandas uses the `read_csv()` function to import csv files."
   ]
  },
  {
   "cell_type": "code",
   "execution_count": 11,
   "metadata": {
    "slideshow": {
     "slide_type": "fragment"
    }
   },
   "outputs": [
    {
     "data": {
      "text/html": [
       "<div>\n",
       "<style scoped>\n",
       "    .dataframe tbody tr th:only-of-type {\n",
       "        vertical-align: middle;\n",
       "    }\n",
       "\n",
       "    .dataframe tbody tr th {\n",
       "        vertical-align: top;\n",
       "    }\n",
       "\n",
       "    .dataframe thead th {\n",
       "        text-align: right;\n",
       "    }\n",
       "</style>\n",
       "<table border=\"1\" class=\"dataframe\">\n",
       "  <thead>\n",
       "    <tr style=\"text-align: right;\">\n",
       "      <th></th>\n",
       "      <th>id</th>\n",
       "      <th>sex</th>\n",
       "      <th>degree</th>\n",
       "      <th>income</th>\n",
       "      <th>marital</th>\n",
       "      <th>age</th>\n",
       "      <th>height</th>\n",
       "      <th>weight</th>\n",
       "      <th>hrswrk</th>\n",
       "    </tr>\n",
       "  </thead>\n",
       "  <tbody>\n",
       "    <tr>\n",
       "      <th>0</th>\n",
       "      <td>1</td>\n",
       "      <td>MALE</td>\n",
       "      <td>BACHELOR</td>\n",
       "      <td>60967.50</td>\n",
       "      <td>DIVORCED</td>\n",
       "      <td>53</td>\n",
       "      <td>72</td>\n",
       "      <td>190</td>\n",
       "      <td>60</td>\n",
       "    </tr>\n",
       "    <tr>\n",
       "      <th>1</th>\n",
       "      <td>2</td>\n",
       "      <td>FEMALE</td>\n",
       "      <td>BACHELOR</td>\n",
       "      <td>60967.50</td>\n",
       "      <td>MARRIED</td>\n",
       "      <td>26</td>\n",
       "      <td>60</td>\n",
       "      <td>97</td>\n",
       "      <td>40</td>\n",
       "    </tr>\n",
       "    <tr>\n",
       "      <th>2</th>\n",
       "      <td>4</td>\n",
       "      <td>FEMALE</td>\n",
       "      <td>BACHELOR</td>\n",
       "      <td>10161.25</td>\n",
       "      <td>MARRIED</td>\n",
       "      <td>56</td>\n",
       "      <td>68</td>\n",
       "      <td>160</td>\n",
       "      <td>20</td>\n",
       "    </tr>\n",
       "    <tr>\n",
       "      <th>3</th>\n",
       "      <td>14</td>\n",
       "      <td>FEMALE</td>\n",
       "      <td>HIGH SCHOOL</td>\n",
       "      <td>17551.25</td>\n",
       "      <td>MARRIED</td>\n",
       "      <td>40</td>\n",
       "      <td>65</td>\n",
       "      <td>156</td>\n",
       "      <td>37</td>\n",
       "    </tr>\n",
       "    <tr>\n",
       "      <th>4</th>\n",
       "      <td>16</td>\n",
       "      <td>MALE</td>\n",
       "      <td>HIGH SCHOOL</td>\n",
       "      <td>17551.25</td>\n",
       "      <td>MARRIED</td>\n",
       "      <td>56</td>\n",
       "      <td>66</td>\n",
       "      <td>210</td>\n",
       "      <td>6</td>\n",
       "    </tr>\n",
       "    <tr>\n",
       "      <th>...</th>\n",
       "      <td>...</td>\n",
       "      <td>...</td>\n",
       "      <td>...</td>\n",
       "      <td>...</td>\n",
       "      <td>...</td>\n",
       "      <td>...</td>\n",
       "      <td>...</td>\n",
       "      <td>...</td>\n",
       "      <td>...</td>\n",
       "    </tr>\n",
       "    <tr>\n",
       "      <th>989</th>\n",
       "      <td>2531</td>\n",
       "      <td>MALE</td>\n",
       "      <td>HIGH SCHOOL</td>\n",
       "      <td>1478.00</td>\n",
       "      <td>NEVER MARRIED</td>\n",
       "      <td>40</td>\n",
       "      <td>71</td>\n",
       "      <td>230</td>\n",
       "      <td>48</td>\n",
       "    </tr>\n",
       "    <tr>\n",
       "      <th>990</th>\n",
       "      <td>2535</td>\n",
       "      <td>MALE</td>\n",
       "      <td>HIGH SCHOOL</td>\n",
       "      <td>33255.00</td>\n",
       "      <td>DIVORCED</td>\n",
       "      <td>56</td>\n",
       "      <td>72</td>\n",
       "      <td>195</td>\n",
       "      <td>46</td>\n",
       "    </tr>\n",
       "    <tr>\n",
       "      <th>991</th>\n",
       "      <td>2536</td>\n",
       "      <td>MALE</td>\n",
       "      <td>HIGH SCHOOL</td>\n",
       "      <td>8313.75</td>\n",
       "      <td>NEVER MARRIED</td>\n",
       "      <td>24</td>\n",
       "      <td>68</td>\n",
       "      <td>145</td>\n",
       "      <td>40</td>\n",
       "    </tr>\n",
       "    <tr>\n",
       "      <th>992</th>\n",
       "      <td>2537</td>\n",
       "      <td>MALE</td>\n",
       "      <td>HIGH SCHOOL</td>\n",
       "      <td>27712.50</td>\n",
       "      <td>NEVER MARRIED</td>\n",
       "      <td>27</td>\n",
       "      <td>68</td>\n",
       "      <td>180</td>\n",
       "      <td>40</td>\n",
       "    </tr>\n",
       "    <tr>\n",
       "      <th>993</th>\n",
       "      <td>2538</td>\n",
       "      <td>FEMALE</td>\n",
       "      <td>HIGH SCHOOL</td>\n",
       "      <td>15703.75</td>\n",
       "      <td>WIDOWED</td>\n",
       "      <td>71</td>\n",
       "      <td>63</td>\n",
       "      <td>140</td>\n",
       "      <td>48</td>\n",
       "    </tr>\n",
       "  </tbody>\n",
       "</table>\n",
       "<p>994 rows × 9 columns</p>\n",
       "</div>"
      ],
      "text/plain": [
       "       id     sex       degree    income        marital  age  height  weight  \\\n",
       "0       1    MALE     BACHELOR  60967.50       DIVORCED   53      72     190   \n",
       "1       2  FEMALE     BACHELOR  60967.50        MARRIED   26      60      97   \n",
       "2       4  FEMALE     BACHELOR  10161.25        MARRIED   56      68     160   \n",
       "3      14  FEMALE  HIGH SCHOOL  17551.25        MARRIED   40      65     156   \n",
       "4      16    MALE  HIGH SCHOOL  17551.25        MARRIED   56      66     210   \n",
       "..    ...     ...          ...       ...            ...  ...     ...     ...   \n",
       "989  2531    MALE  HIGH SCHOOL   1478.00  NEVER MARRIED   40      71     230   \n",
       "990  2535    MALE  HIGH SCHOOL  33255.00       DIVORCED   56      72     195   \n",
       "991  2536    MALE  HIGH SCHOOL   8313.75  NEVER MARRIED   24      68     145   \n",
       "992  2537    MALE  HIGH SCHOOL  27712.50  NEVER MARRIED   27      68     180   \n",
       "993  2538  FEMALE  HIGH SCHOOL  15703.75        WIDOWED   71      63     140   \n",
       "\n",
       "     hrswrk  \n",
       "0        60  \n",
       "1        40  \n",
       "2        20  \n",
       "3        37  \n",
       "4         6  \n",
       "..      ...  \n",
       "989      48  \n",
       "990      46  \n",
       "991      40  \n",
       "992      40  \n",
       "993      48  \n",
       "\n",
       "[994 rows x 9 columns]"
      ]
     },
     "execution_count": 11,
     "metadata": {},
     "output_type": "execute_result"
    }
   ],
   "source": [
    "# Note that pd.read_csv is used because we imported pandas as pd\n",
    "pd.read_csv(\"C:/Users/ysding/Dropbox/StatCon/Python Workshop/New Materials/data/GSSsubset.csv\")"
   ]
  },
  {
   "cell_type": "markdown",
   "metadata": {
    "slideshow": {
     "slide_type": "slide"
    }
   },
   "source": [
    "## Let's Examine a Dataset\n",
    "\n",
    "When importing a dataset we should assign it to a variable for future use.\n",
    "\n",
    "Declare a variable name and assign the `read_csv()` function from earlier."
   ]
  },
  {
   "cell_type": "code",
   "execution_count": 12,
   "metadata": {
    "slideshow": {
     "slide_type": "fragment"
    }
   },
   "outputs": [],
   "source": [
    "# df is common short hand in Pandas for \"DataFrame\", which is the object type\n",
    "# we are creating when importing a csv file\n",
    "gss_df = pd.read_csv(\"C:/Users/ysding/Dropbox/StatCon/Python Workshop/New Materials/data/GSSsubset.csv\")"
   ]
  },
  {
   "cell_type": "markdown",
   "metadata": {
    "slideshow": {
     "slide_type": "subslide"
    }
   },
   "source": [
    "### Preview the First Few Lines of a Dataset\n",
    "After we assign our dataset to a variable, we can preview it with `head()`"
   ]
  },
  {
   "cell_type": "code",
   "execution_count": 13,
   "metadata": {
    "slideshow": {
     "slide_type": "fragment"
    }
   },
   "outputs": [
    {
     "data": {
      "text/html": [
       "<div>\n",
       "<style scoped>\n",
       "    .dataframe tbody tr th:only-of-type {\n",
       "        vertical-align: middle;\n",
       "    }\n",
       "\n",
       "    .dataframe tbody tr th {\n",
       "        vertical-align: top;\n",
       "    }\n",
       "\n",
       "    .dataframe thead th {\n",
       "        text-align: right;\n",
       "    }\n",
       "</style>\n",
       "<table border=\"1\" class=\"dataframe\">\n",
       "  <thead>\n",
       "    <tr style=\"text-align: right;\">\n",
       "      <th></th>\n",
       "      <th>id</th>\n",
       "      <th>sex</th>\n",
       "      <th>degree</th>\n",
       "      <th>income</th>\n",
       "      <th>marital</th>\n",
       "      <th>age</th>\n",
       "      <th>height</th>\n",
       "      <th>weight</th>\n",
       "      <th>hrswrk</th>\n",
       "    </tr>\n",
       "  </thead>\n",
       "  <tbody>\n",
       "    <tr>\n",
       "      <th>0</th>\n",
       "      <td>1</td>\n",
       "      <td>MALE</td>\n",
       "      <td>BACHELOR</td>\n",
       "      <td>60967.50</td>\n",
       "      <td>DIVORCED</td>\n",
       "      <td>53</td>\n",
       "      <td>72</td>\n",
       "      <td>190</td>\n",
       "      <td>60</td>\n",
       "    </tr>\n",
       "    <tr>\n",
       "      <th>1</th>\n",
       "      <td>2</td>\n",
       "      <td>FEMALE</td>\n",
       "      <td>BACHELOR</td>\n",
       "      <td>60967.50</td>\n",
       "      <td>MARRIED</td>\n",
       "      <td>26</td>\n",
       "      <td>60</td>\n",
       "      <td>97</td>\n",
       "      <td>40</td>\n",
       "    </tr>\n",
       "    <tr>\n",
       "      <th>2</th>\n",
       "      <td>4</td>\n",
       "      <td>FEMALE</td>\n",
       "      <td>BACHELOR</td>\n",
       "      <td>10161.25</td>\n",
       "      <td>MARRIED</td>\n",
       "      <td>56</td>\n",
       "      <td>68</td>\n",
       "      <td>160</td>\n",
       "      <td>20</td>\n",
       "    </tr>\n",
       "    <tr>\n",
       "      <th>3</th>\n",
       "      <td>14</td>\n",
       "      <td>FEMALE</td>\n",
       "      <td>HIGH SCHOOL</td>\n",
       "      <td>17551.25</td>\n",
       "      <td>MARRIED</td>\n",
       "      <td>40</td>\n",
       "      <td>65</td>\n",
       "      <td>156</td>\n",
       "      <td>37</td>\n",
       "    </tr>\n",
       "    <tr>\n",
       "      <th>4</th>\n",
       "      <td>16</td>\n",
       "      <td>MALE</td>\n",
       "      <td>HIGH SCHOOL</td>\n",
       "      <td>17551.25</td>\n",
       "      <td>MARRIED</td>\n",
       "      <td>56</td>\n",
       "      <td>66</td>\n",
       "      <td>210</td>\n",
       "      <td>6</td>\n",
       "    </tr>\n",
       "  </tbody>\n",
       "</table>\n",
       "</div>"
      ],
      "text/plain": [
       "   id     sex       degree    income   marital  age  height  weight  hrswrk\n",
       "0   1    MALE     BACHELOR  60967.50  DIVORCED   53      72     190      60\n",
       "1   2  FEMALE     BACHELOR  60967.50   MARRIED   26      60      97      40\n",
       "2   4  FEMALE     BACHELOR  10161.25   MARRIED   56      68     160      20\n",
       "3  14  FEMALE  HIGH SCHOOL  17551.25   MARRIED   40      65     156      37\n",
       "4  16    MALE  HIGH SCHOOL  17551.25   MARRIED   56      66     210       6"
      ]
     },
     "execution_count": 13,
     "metadata": {},
     "output_type": "execute_result"
    }
   ],
   "source": [
    "gss_df.head()\n",
    "# head() can be used on any dataframe object!"
   ]
  },
  {
   "cell_type": "markdown",
   "metadata": {
    "slideshow": {
     "slide_type": "subslide"
    }
   },
   "source": [
    "### Preivew a Dataset\n",
    "\n",
    "`head()` let's us look at the first few lines of a file.\n",
    "\n",
    "`tail()` will let us look that last few lines of a file."
   ]
  },
  {
   "cell_type": "code",
   "execution_count": 14,
   "metadata": {
    "slideshow": {
     "slide_type": "fragment"
    }
   },
   "outputs": [
    {
     "data": {
      "text/html": [
       "<div>\n",
       "<style scoped>\n",
       "    .dataframe tbody tr th:only-of-type {\n",
       "        vertical-align: middle;\n",
       "    }\n",
       "\n",
       "    .dataframe tbody tr th {\n",
       "        vertical-align: top;\n",
       "    }\n",
       "\n",
       "    .dataframe thead th {\n",
       "        text-align: right;\n",
       "    }\n",
       "</style>\n",
       "<table border=\"1\" class=\"dataframe\">\n",
       "  <thead>\n",
       "    <tr style=\"text-align: right;\">\n",
       "      <th></th>\n",
       "      <th>id</th>\n",
       "      <th>sex</th>\n",
       "      <th>degree</th>\n",
       "      <th>income</th>\n",
       "      <th>marital</th>\n",
       "      <th>age</th>\n",
       "      <th>height</th>\n",
       "      <th>weight</th>\n",
       "      <th>hrswrk</th>\n",
       "    </tr>\n",
       "  </thead>\n",
       "  <tbody>\n",
       "    <tr>\n",
       "      <th>989</th>\n",
       "      <td>2531</td>\n",
       "      <td>MALE</td>\n",
       "      <td>HIGH SCHOOL</td>\n",
       "      <td>1478.00</td>\n",
       "      <td>NEVER MARRIED</td>\n",
       "      <td>40</td>\n",
       "      <td>71</td>\n",
       "      <td>230</td>\n",
       "      <td>48</td>\n",
       "    </tr>\n",
       "    <tr>\n",
       "      <th>990</th>\n",
       "      <td>2535</td>\n",
       "      <td>MALE</td>\n",
       "      <td>HIGH SCHOOL</td>\n",
       "      <td>33255.00</td>\n",
       "      <td>DIVORCED</td>\n",
       "      <td>56</td>\n",
       "      <td>72</td>\n",
       "      <td>195</td>\n",
       "      <td>46</td>\n",
       "    </tr>\n",
       "    <tr>\n",
       "      <th>991</th>\n",
       "      <td>2536</td>\n",
       "      <td>MALE</td>\n",
       "      <td>HIGH SCHOOL</td>\n",
       "      <td>8313.75</td>\n",
       "      <td>NEVER MARRIED</td>\n",
       "      <td>24</td>\n",
       "      <td>68</td>\n",
       "      <td>145</td>\n",
       "      <td>40</td>\n",
       "    </tr>\n",
       "    <tr>\n",
       "      <th>992</th>\n",
       "      <td>2537</td>\n",
       "      <td>MALE</td>\n",
       "      <td>HIGH SCHOOL</td>\n",
       "      <td>27712.50</td>\n",
       "      <td>NEVER MARRIED</td>\n",
       "      <td>27</td>\n",
       "      <td>68</td>\n",
       "      <td>180</td>\n",
       "      <td>40</td>\n",
       "    </tr>\n",
       "    <tr>\n",
       "      <th>993</th>\n",
       "      <td>2538</td>\n",
       "      <td>FEMALE</td>\n",
       "      <td>HIGH SCHOOL</td>\n",
       "      <td>15703.75</td>\n",
       "      <td>WIDOWED</td>\n",
       "      <td>71</td>\n",
       "      <td>63</td>\n",
       "      <td>140</td>\n",
       "      <td>48</td>\n",
       "    </tr>\n",
       "  </tbody>\n",
       "</table>\n",
       "</div>"
      ],
      "text/plain": [
       "       id     sex       degree    income        marital  age  height  weight  \\\n",
       "989  2531    MALE  HIGH SCHOOL   1478.00  NEVER MARRIED   40      71     230   \n",
       "990  2535    MALE  HIGH SCHOOL  33255.00       DIVORCED   56      72     195   \n",
       "991  2536    MALE  HIGH SCHOOL   8313.75  NEVER MARRIED   24      68     145   \n",
       "992  2537    MALE  HIGH SCHOOL  27712.50  NEVER MARRIED   27      68     180   \n",
       "993  2538  FEMALE  HIGH SCHOOL  15703.75        WIDOWED   71      63     140   \n",
       "\n",
       "     hrswrk  \n",
       "989      48  \n",
       "990      46  \n",
       "991      40  \n",
       "992      40  \n",
       "993      48  "
      ]
     },
     "execution_count": 14,
     "metadata": {},
     "output_type": "execute_result"
    }
   ],
   "source": [
    "gss_df.tail()"
   ]
  },
  {
   "cell_type": "markdown",
   "metadata": {
    "slideshow": {
     "slide_type": "slide"
    }
   },
   "source": [
    "## Exercise 1\n",
    "\n",
    "- Import the dataset `car.csv`\n",
    "- Preview the dataset\n",
    "    - Call the variable that you assigned to car.csv\n",
    "    - Call the head() function on the DataFrame"
   ]
  },
  {
   "cell_type": "code",
   "execution_count": 15,
   "metadata": {
    "slideshow": {
     "slide_type": "fragment"
    }
   },
   "outputs": [],
   "source": [
    "car = pd.read_csv(\"C:/Users/ysding/Dropbox/StatCon/Python Workshop/New Materials/data/car.csv\")"
   ]
  },
  {
   "cell_type": "code",
   "execution_count": 16,
   "metadata": {
    "slideshow": {
     "slide_type": "fragment"
    }
   },
   "outputs": [
    {
     "data": {
      "text/html": [
       "<div>\n",
       "<style scoped>\n",
       "    .dataframe tbody tr th:only-of-type {\n",
       "        vertical-align: middle;\n",
       "    }\n",
       "\n",
       "    .dataframe tbody tr th {\n",
       "        vertical-align: top;\n",
       "    }\n",
       "\n",
       "    .dataframe thead th {\n",
       "        text-align: right;\n",
       "    }\n",
       "</style>\n",
       "<table border=\"1\" class=\"dataframe\">\n",
       "  <thead>\n",
       "    <tr style=\"text-align: right;\">\n",
       "      <th></th>\n",
       "      <th>Make</th>\n",
       "      <th>Model</th>\n",
       "      <th>Type</th>\n",
       "      <th>Origin</th>\n",
       "      <th>DriveTrain</th>\n",
       "      <th>MSRP</th>\n",
       "      <th>Invoice</th>\n",
       "      <th>EngineSize</th>\n",
       "      <th>Cylinders</th>\n",
       "      <th>Horsepower</th>\n",
       "      <th>MPG_City</th>\n",
       "      <th>MPG_Highway</th>\n",
       "      <th>Weight</th>\n",
       "      <th>Wheelbase</th>\n",
       "      <th>Length</th>\n",
       "    </tr>\n",
       "  </thead>\n",
       "  <tbody>\n",
       "    <tr>\n",
       "      <th>0</th>\n",
       "      <td>Acura</td>\n",
       "      <td>MDX</td>\n",
       "      <td>SUV</td>\n",
       "      <td>Asia</td>\n",
       "      <td>All</td>\n",
       "      <td>36945.0</td>\n",
       "      <td>33337.0</td>\n",
       "      <td>3.5</td>\n",
       "      <td>6.0</td>\n",
       "      <td>265</td>\n",
       "      <td>17</td>\n",
       "      <td>23</td>\n",
       "      <td>4451</td>\n",
       "      <td>106</td>\n",
       "      <td>189</td>\n",
       "    </tr>\n",
       "    <tr>\n",
       "      <th>1</th>\n",
       "      <td>Acura</td>\n",
       "      <td>RSX Type S 2dr</td>\n",
       "      <td>Sedan</td>\n",
       "      <td>Asia</td>\n",
       "      <td>Front</td>\n",
       "      <td>23820.0</td>\n",
       "      <td>21761.0</td>\n",
       "      <td>2.0</td>\n",
       "      <td>4.0</td>\n",
       "      <td>200</td>\n",
       "      <td>24</td>\n",
       "      <td>31</td>\n",
       "      <td>2778</td>\n",
       "      <td>101</td>\n",
       "      <td>172</td>\n",
       "    </tr>\n",
       "    <tr>\n",
       "      <th>2</th>\n",
       "      <td>Acura</td>\n",
       "      <td>TSX 4dr</td>\n",
       "      <td>Sedan</td>\n",
       "      <td>Asia</td>\n",
       "      <td>Front</td>\n",
       "      <td>26990.0</td>\n",
       "      <td>24647.0</td>\n",
       "      <td>2.4</td>\n",
       "      <td>4.0</td>\n",
       "      <td>200</td>\n",
       "      <td>22</td>\n",
       "      <td>29</td>\n",
       "      <td>3230</td>\n",
       "      <td>105</td>\n",
       "      <td>183</td>\n",
       "    </tr>\n",
       "    <tr>\n",
       "      <th>3</th>\n",
       "      <td>Acura</td>\n",
       "      <td>TL 4dr</td>\n",
       "      <td>Sedan</td>\n",
       "      <td>Asia</td>\n",
       "      <td>Front</td>\n",
       "      <td>33195.0</td>\n",
       "      <td>30299.0</td>\n",
       "      <td>3.2</td>\n",
       "      <td>6.0</td>\n",
       "      <td>270</td>\n",
       "      <td>20</td>\n",
       "      <td>28</td>\n",
       "      <td>3575</td>\n",
       "      <td>108</td>\n",
       "      <td>186</td>\n",
       "    </tr>\n",
       "    <tr>\n",
       "      <th>4</th>\n",
       "      <td>Acura</td>\n",
       "      <td>3.5 RL 4dr</td>\n",
       "      <td>Sedan</td>\n",
       "      <td>Asia</td>\n",
       "      <td>Front</td>\n",
       "      <td>43755.0</td>\n",
       "      <td>39014.0</td>\n",
       "      <td>3.5</td>\n",
       "      <td>6.0</td>\n",
       "      <td>225</td>\n",
       "      <td>18</td>\n",
       "      <td>24</td>\n",
       "      <td>3880</td>\n",
       "      <td>115</td>\n",
       "      <td>197</td>\n",
       "    </tr>\n",
       "  </tbody>\n",
       "</table>\n",
       "</div>"
      ],
      "text/plain": [
       "    Make           Model   Type Origin DriveTrain     MSRP  Invoice  \\\n",
       "0  Acura             MDX    SUV   Asia        All  36945.0  33337.0   \n",
       "1  Acura  RSX Type S 2dr  Sedan   Asia      Front  23820.0  21761.0   \n",
       "2  Acura         TSX 4dr  Sedan   Asia      Front  26990.0  24647.0   \n",
       "3  Acura          TL 4dr  Sedan   Asia      Front  33195.0  30299.0   \n",
       "4  Acura      3.5 RL 4dr  Sedan   Asia      Front  43755.0  39014.0   \n",
       "\n",
       "   EngineSize  Cylinders  Horsepower  MPG_City  MPG_Highway  Weight  \\\n",
       "0         3.5        6.0         265        17           23    4451   \n",
       "1         2.0        4.0         200        24           31    2778   \n",
       "2         2.4        4.0         200        22           29    3230   \n",
       "3         3.2        6.0         270        20           28    3575   \n",
       "4         3.5        6.0         225        18           24    3880   \n",
       "\n",
       "   Wheelbase  Length  \n",
       "0        106     189  \n",
       "1        101     172  \n",
       "2        105     183  \n",
       "3        108     186  \n",
       "4        115     197  "
      ]
     },
     "execution_count": 16,
     "metadata": {},
     "output_type": "execute_result"
    }
   ],
   "source": [
    "car.head()"
   ]
  },
  {
   "cell_type": "markdown",
   "metadata": {
    "slideshow": {
     "slide_type": "slide"
    }
   },
   "source": [
    "### Examine the Dataset\n",
    "\n",
    "- `df.shape` where `df` is the name of your DataFrame\n",
    "    - Returns row x column\n",
    "- `df.describe()`\n",
    "    - Returns summary report about the descriptive statistics for each variable\n",
    "- `df.columns`\n",
    "    - Returns a list of the column names\n",
    "- `df.index`\n",
    "    - Returns row information (range and step)\n",
    "- `df.info()`\n",
    "    - Returns list of variables, data type, count, size, etc.\n",
    "    \n"
   ]
  },
  {
   "cell_type": "markdown",
   "metadata": {
    "slideshow": {
     "slide_type": "subslide"
    }
   },
   "source": [
    "### Examine the Dataset"
   ]
  },
  {
   "cell_type": "code",
   "execution_count": 17,
   "metadata": {
    "slideshow": {
     "slide_type": "fragment"
    }
   },
   "outputs": [
    {
     "data": {
      "text/plain": [
       "pandas.core.frame.DataFrame"
      ]
     },
     "execution_count": 17,
     "metadata": {},
     "output_type": "execute_result"
    }
   ],
   "source": [
    "type(gss_df)"
   ]
  },
  {
   "cell_type": "code",
   "execution_count": 18,
   "metadata": {
    "slideshow": {
     "slide_type": "fragment"
    }
   },
   "outputs": [
    {
     "data": {
      "text/plain": [
       "(994, 9)"
      ]
     },
     "execution_count": 18,
     "metadata": {},
     "output_type": "execute_result"
    }
   ],
   "source": [
    "gss_df.shape"
   ]
  },
  {
   "cell_type": "code",
   "execution_count": 19,
   "metadata": {
    "slideshow": {
     "slide_type": "fragment"
    }
   },
   "outputs": [
    {
     "data": {
      "text/html": [
       "<div>\n",
       "<style scoped>\n",
       "    .dataframe tbody tr th:only-of-type {\n",
       "        vertical-align: middle;\n",
       "    }\n",
       "\n",
       "    .dataframe tbody tr th {\n",
       "        vertical-align: top;\n",
       "    }\n",
       "\n",
       "    .dataframe thead th {\n",
       "        text-align: right;\n",
       "    }\n",
       "</style>\n",
       "<table border=\"1\" class=\"dataframe\">\n",
       "  <thead>\n",
       "    <tr style=\"text-align: right;\">\n",
       "      <th></th>\n",
       "      <th>id</th>\n",
       "      <th>income</th>\n",
       "      <th>age</th>\n",
       "      <th>height</th>\n",
       "      <th>weight</th>\n",
       "      <th>hrswrk</th>\n",
       "    </tr>\n",
       "  </thead>\n",
       "  <tbody>\n",
       "    <tr>\n",
       "      <th>count</th>\n",
       "      <td>994.000000</td>\n",
       "      <td>994.000000</td>\n",
       "      <td>994.000000</td>\n",
       "      <td>994.000000</td>\n",
       "      <td>994.000000</td>\n",
       "      <td>994.000000</td>\n",
       "    </tr>\n",
       "    <tr>\n",
       "      <th>mean</th>\n",
       "      <td>1271.183099</td>\n",
       "      <td>36887.218352</td>\n",
       "      <td>44.488934</td>\n",
       "      <td>67.414487</td>\n",
       "      <td>181.318913</td>\n",
       "      <td>42.640845</td>\n",
       "    </tr>\n",
       "    <tr>\n",
       "      <th>std</th>\n",
       "      <td>734.068659</td>\n",
       "      <td>34702.256068</td>\n",
       "      <td>13.126865</td>\n",
       "      <td>4.037741</td>\n",
       "      <td>41.641615</td>\n",
       "      <td>14.394974</td>\n",
       "    </tr>\n",
       "    <tr>\n",
       "      <th>min</th>\n",
       "      <td>1.000000</td>\n",
       "      <td>369.500000</td>\n",
       "      <td>19.000000</td>\n",
       "      <td>57.000000</td>\n",
       "      <td>90.000000</td>\n",
       "      <td>1.000000</td>\n",
       "    </tr>\n",
       "    <tr>\n",
       "      <th>25%</th>\n",
       "      <td>648.250000</td>\n",
       "      <td>15703.750000</td>\n",
       "      <td>33.000000</td>\n",
       "      <td>64.000000</td>\n",
       "      <td>150.000000</td>\n",
       "      <td>38.000000</td>\n",
       "    </tr>\n",
       "    <tr>\n",
       "      <th>50%</th>\n",
       "      <td>1254.500000</td>\n",
       "      <td>27712.500000</td>\n",
       "      <td>44.000000</td>\n",
       "      <td>67.000000</td>\n",
       "      <td>175.000000</td>\n",
       "      <td>40.000000</td>\n",
       "    </tr>\n",
       "    <tr>\n",
       "      <th>75%</th>\n",
       "      <td>1915.750000</td>\n",
       "      <td>49882.500000</td>\n",
       "      <td>55.000000</td>\n",
       "      <td>70.000000</td>\n",
       "      <td>205.000000</td>\n",
       "      <td>50.000000</td>\n",
       "    </tr>\n",
       "    <tr>\n",
       "      <th>max</th>\n",
       "      <td>2538.000000</td>\n",
       "      <td>158656.952000</td>\n",
       "      <td>79.000000</td>\n",
       "      <td>79.000000</td>\n",
       "      <td>410.000000</td>\n",
       "      <td>89.000000</td>\n",
       "    </tr>\n",
       "  </tbody>\n",
       "</table>\n",
       "</div>"
      ],
      "text/plain": [
       "                id         income         age      height      weight  \\\n",
       "count   994.000000     994.000000  994.000000  994.000000  994.000000   \n",
       "mean   1271.183099   36887.218352   44.488934   67.414487  181.318913   \n",
       "std     734.068659   34702.256068   13.126865    4.037741   41.641615   \n",
       "min       1.000000     369.500000   19.000000   57.000000   90.000000   \n",
       "25%     648.250000   15703.750000   33.000000   64.000000  150.000000   \n",
       "50%    1254.500000   27712.500000   44.000000   67.000000  175.000000   \n",
       "75%    1915.750000   49882.500000   55.000000   70.000000  205.000000   \n",
       "max    2538.000000  158656.952000   79.000000   79.000000  410.000000   \n",
       "\n",
       "           hrswrk  \n",
       "count  994.000000  \n",
       "mean    42.640845  \n",
       "std     14.394974  \n",
       "min      1.000000  \n",
       "25%     38.000000  \n",
       "50%     40.000000  \n",
       "75%     50.000000  \n",
       "max     89.000000  "
      ]
     },
     "execution_count": 19,
     "metadata": {},
     "output_type": "execute_result"
    }
   ],
   "source": [
    "gss_df.describe()"
   ]
  },
  {
   "cell_type": "code",
   "execution_count": 20,
   "metadata": {
    "slideshow": {
     "slide_type": "subslide"
    }
   },
   "outputs": [
    {
     "data": {
      "text/plain": [
       "Index(['id', 'sex', 'degree', 'income', 'marital', 'age', 'height', 'weight',\n",
       "       'hrswrk'],\n",
       "      dtype='object')"
      ]
     },
     "execution_count": 20,
     "metadata": {},
     "output_type": "execute_result"
    }
   ],
   "source": [
    "gss_df.columns"
   ]
  },
  {
   "cell_type": "code",
   "execution_count": 21,
   "metadata": {
    "slideshow": {
     "slide_type": "fragment"
    }
   },
   "outputs": [
    {
     "data": {
      "text/plain": [
       "RangeIndex(start=0, stop=994, step=1)"
      ]
     },
     "execution_count": 21,
     "metadata": {},
     "output_type": "execute_result"
    }
   ],
   "source": [
    "gss_df.index"
   ]
  },
  {
   "cell_type": "code",
   "execution_count": 22,
   "metadata": {
    "slideshow": {
     "slide_type": "fragment"
    }
   },
   "outputs": [
    {
     "name": "stdout",
     "output_type": "stream",
     "text": [
      "<class 'pandas.core.frame.DataFrame'>\n",
      "RangeIndex: 994 entries, 0 to 993\n",
      "Data columns (total 9 columns):\n",
      "id         994 non-null int64\n",
      "sex        994 non-null object\n",
      "degree     994 non-null object\n",
      "income     994 non-null float64\n",
      "marital    994 non-null object\n",
      "age        994 non-null int64\n",
      "height     994 non-null int64\n",
      "weight     994 non-null int64\n",
      "hrswrk     994 non-null int64\n",
      "dtypes: float64(1), int64(5), object(3)\n",
      "memory usage: 70.0+ KB\n"
     ]
    }
   ],
   "source": [
    "gss_df.info()"
   ]
  },
  {
   "cell_type": "markdown",
   "metadata": {
    "slideshow": {
     "slide_type": "slide"
    }
   },
   "source": [
    "## Exercise 2\n",
    "\n",
    "- Examine the dimensions of `car.csv`\n",
    "    - How many rows does this dataset have?\n",
    "    - How many columns?\n",
    "    - What are the variable names?\n",
    "    - Generate a summary report about the descriptive statistics of each variable"
   ]
  },
  {
   "cell_type": "code",
   "execution_count": 23,
   "metadata": {
    "slideshow": {
     "slide_type": "fragment"
    }
   },
   "outputs": [
    {
     "data": {
      "text/plain": [
       "(428, 15)"
      ]
     },
     "execution_count": 23,
     "metadata": {},
     "output_type": "execute_result"
    }
   ],
   "source": [
    "car.shape"
   ]
  },
  {
   "cell_type": "code",
   "execution_count": 24,
   "metadata": {
    "slideshow": {
     "slide_type": "fragment"
    }
   },
   "outputs": [
    {
     "data": {
      "text/plain": [
       "Index(['Make', 'Model', 'Type', 'Origin', 'DriveTrain', 'MSRP', 'Invoice',\n",
       "       'EngineSize', 'Cylinders', 'Horsepower', 'MPG_City', 'MPG_Highway',\n",
       "       'Weight', 'Wheelbase', 'Length'],\n",
       "      dtype='object')"
      ]
     },
     "execution_count": 24,
     "metadata": {},
     "output_type": "execute_result"
    }
   ],
   "source": [
    "car.columns"
   ]
  },
  {
   "cell_type": "code",
   "execution_count": 25,
   "metadata": {
    "slideshow": {
     "slide_type": "fragment"
    }
   },
   "outputs": [
    {
     "data": {
      "text/html": [
       "<div>\n",
       "<style scoped>\n",
       "    .dataframe tbody tr th:only-of-type {\n",
       "        vertical-align: middle;\n",
       "    }\n",
       "\n",
       "    .dataframe tbody tr th {\n",
       "        vertical-align: top;\n",
       "    }\n",
       "\n",
       "    .dataframe thead th {\n",
       "        text-align: right;\n",
       "    }\n",
       "</style>\n",
       "<table border=\"1\" class=\"dataframe\">\n",
       "  <thead>\n",
       "    <tr style=\"text-align: right;\">\n",
       "      <th></th>\n",
       "      <th>MSRP</th>\n",
       "      <th>Invoice</th>\n",
       "      <th>EngineSize</th>\n",
       "      <th>Cylinders</th>\n",
       "      <th>Horsepower</th>\n",
       "      <th>MPG_City</th>\n",
       "      <th>MPG_Highway</th>\n",
       "      <th>Weight</th>\n",
       "      <th>Wheelbase</th>\n",
       "      <th>Length</th>\n",
       "    </tr>\n",
       "  </thead>\n",
       "  <tbody>\n",
       "    <tr>\n",
       "      <th>count</th>\n",
       "      <td>428.000000</td>\n",
       "      <td>428.000000</td>\n",
       "      <td>428.000000</td>\n",
       "      <td>426.000000</td>\n",
       "      <td>428.000000</td>\n",
       "      <td>428.000000</td>\n",
       "      <td>428.000000</td>\n",
       "      <td>428.000000</td>\n",
       "      <td>428.000000</td>\n",
       "      <td>428.000000</td>\n",
       "    </tr>\n",
       "    <tr>\n",
       "      <th>mean</th>\n",
       "      <td>32774.855140</td>\n",
       "      <td>30014.700935</td>\n",
       "      <td>3.196729</td>\n",
       "      <td>5.807512</td>\n",
       "      <td>215.885514</td>\n",
       "      <td>20.060748</td>\n",
       "      <td>26.843458</td>\n",
       "      <td>3577.953271</td>\n",
       "      <td>108.154206</td>\n",
       "      <td>186.362150</td>\n",
       "    </tr>\n",
       "    <tr>\n",
       "      <th>std</th>\n",
       "      <td>19431.716674</td>\n",
       "      <td>17642.117750</td>\n",
       "      <td>1.108595</td>\n",
       "      <td>1.558443</td>\n",
       "      <td>71.836032</td>\n",
       "      <td>5.238218</td>\n",
       "      <td>5.741201</td>\n",
       "      <td>758.983215</td>\n",
       "      <td>8.311813</td>\n",
       "      <td>14.357991</td>\n",
       "    </tr>\n",
       "    <tr>\n",
       "      <th>min</th>\n",
       "      <td>10280.000000</td>\n",
       "      <td>9875.000000</td>\n",
       "      <td>1.300000</td>\n",
       "      <td>3.000000</td>\n",
       "      <td>73.000000</td>\n",
       "      <td>10.000000</td>\n",
       "      <td>12.000000</td>\n",
       "      <td>1850.000000</td>\n",
       "      <td>89.000000</td>\n",
       "      <td>143.000000</td>\n",
       "    </tr>\n",
       "    <tr>\n",
       "      <th>25%</th>\n",
       "      <td>20334.250000</td>\n",
       "      <td>18866.000000</td>\n",
       "      <td>2.375000</td>\n",
       "      <td>4.000000</td>\n",
       "      <td>165.000000</td>\n",
       "      <td>17.000000</td>\n",
       "      <td>24.000000</td>\n",
       "      <td>3104.000000</td>\n",
       "      <td>103.000000</td>\n",
       "      <td>178.000000</td>\n",
       "    </tr>\n",
       "    <tr>\n",
       "      <th>50%</th>\n",
       "      <td>27635.000000</td>\n",
       "      <td>25294.500000</td>\n",
       "      <td>3.000000</td>\n",
       "      <td>6.000000</td>\n",
       "      <td>210.000000</td>\n",
       "      <td>19.000000</td>\n",
       "      <td>26.000000</td>\n",
       "      <td>3474.500000</td>\n",
       "      <td>107.000000</td>\n",
       "      <td>187.000000</td>\n",
       "    </tr>\n",
       "    <tr>\n",
       "      <th>75%</th>\n",
       "      <td>39205.000000</td>\n",
       "      <td>35710.250000</td>\n",
       "      <td>3.900000</td>\n",
       "      <td>6.000000</td>\n",
       "      <td>255.000000</td>\n",
       "      <td>21.250000</td>\n",
       "      <td>29.000000</td>\n",
       "      <td>3977.750000</td>\n",
       "      <td>112.000000</td>\n",
       "      <td>194.000000</td>\n",
       "    </tr>\n",
       "    <tr>\n",
       "      <th>max</th>\n",
       "      <td>192465.000000</td>\n",
       "      <td>173560.000000</td>\n",
       "      <td>8.300000</td>\n",
       "      <td>12.000000</td>\n",
       "      <td>500.000000</td>\n",
       "      <td>60.000000</td>\n",
       "      <td>66.000000</td>\n",
       "      <td>7190.000000</td>\n",
       "      <td>144.000000</td>\n",
       "      <td>238.000000</td>\n",
       "    </tr>\n",
       "  </tbody>\n",
       "</table>\n",
       "</div>"
      ],
      "text/plain": [
       "                MSRP        Invoice  EngineSize   Cylinders  Horsepower  \\\n",
       "count     428.000000     428.000000  428.000000  426.000000  428.000000   \n",
       "mean    32774.855140   30014.700935    3.196729    5.807512  215.885514   \n",
       "std     19431.716674   17642.117750    1.108595    1.558443   71.836032   \n",
       "min     10280.000000    9875.000000    1.300000    3.000000   73.000000   \n",
       "25%     20334.250000   18866.000000    2.375000    4.000000  165.000000   \n",
       "50%     27635.000000   25294.500000    3.000000    6.000000  210.000000   \n",
       "75%     39205.000000   35710.250000    3.900000    6.000000  255.000000   \n",
       "max    192465.000000  173560.000000    8.300000   12.000000  500.000000   \n",
       "\n",
       "         MPG_City  MPG_Highway       Weight   Wheelbase      Length  \n",
       "count  428.000000   428.000000   428.000000  428.000000  428.000000  \n",
       "mean    20.060748    26.843458  3577.953271  108.154206  186.362150  \n",
       "std      5.238218     5.741201   758.983215    8.311813   14.357991  \n",
       "min     10.000000    12.000000  1850.000000   89.000000  143.000000  \n",
       "25%     17.000000    24.000000  3104.000000  103.000000  178.000000  \n",
       "50%     19.000000    26.000000  3474.500000  107.000000  187.000000  \n",
       "75%     21.250000    29.000000  3977.750000  112.000000  194.000000  \n",
       "max     60.000000    66.000000  7190.000000  144.000000  238.000000  "
      ]
     },
     "execution_count": 25,
     "metadata": {},
     "output_type": "execute_result"
    }
   ],
   "source": [
    "car.describe()"
   ]
  },
  {
   "cell_type": "markdown",
   "metadata": {
    "slideshow": {
     "slide_type": "slide"
    }
   },
   "source": [
    "### Subset the Dataset\n",
    "|1. Subset by row/column name|2. Subset by row/column index|\n",
    "|:---|:---|\n",
    "|**`df.loc[rowname, colname]`**|**`df.iloc[rowindex, colindex]`**|\n",
    "|- `data.loc[2, 'degree']`<br>- `data.loc[:3,'id':'income']`<br>- `data.loc[[1,3,5],['id', 'degree', 'income']`|- `data.iloc[1, 3]`<br>- `data.iloc[:5,]`<br>- `data.iloc[900:, [2,3,5,8]]`|\n",
    "\n",
    "Refer to [this](https://cmdlinetips.com/2019/03/how-to-select-one-or-more-columns-in-pandas/) article for a more in-depth explanation of subsetting in Pandas."
   ]
  },
  {
   "cell_type": "code",
   "execution_count": 26,
   "metadata": {
    "slideshow": {
     "slide_type": "fragment"
    }
   },
   "outputs": [
    {
     "data": {
      "text/html": [
       "<div>\n",
       "<style scoped>\n",
       "    .dataframe tbody tr th:only-of-type {\n",
       "        vertical-align: middle;\n",
       "    }\n",
       "\n",
       "    .dataframe tbody tr th {\n",
       "        vertical-align: top;\n",
       "    }\n",
       "\n",
       "    .dataframe thead th {\n",
       "        text-align: right;\n",
       "    }\n",
       "</style>\n",
       "<table border=\"1\" class=\"dataframe\">\n",
       "  <thead>\n",
       "    <tr style=\"text-align: right;\">\n",
       "      <th></th>\n",
       "      <th>sex</th>\n",
       "      <th>degree</th>\n",
       "      <th>income</th>\n",
       "    </tr>\n",
       "  </thead>\n",
       "  <tbody>\n",
       "    <tr>\n",
       "      <th>0</th>\n",
       "      <td>MALE</td>\n",
       "      <td>BACHELOR</td>\n",
       "      <td>60967.50</td>\n",
       "    </tr>\n",
       "    <tr>\n",
       "      <th>1</th>\n",
       "      <td>FEMALE</td>\n",
       "      <td>BACHELOR</td>\n",
       "      <td>60967.50</td>\n",
       "    </tr>\n",
       "    <tr>\n",
       "      <th>2</th>\n",
       "      <td>FEMALE</td>\n",
       "      <td>BACHELOR</td>\n",
       "      <td>10161.25</td>\n",
       "    </tr>\n",
       "    <tr>\n",
       "      <th>3</th>\n",
       "      <td>FEMALE</td>\n",
       "      <td>HIGH SCHOOL</td>\n",
       "      <td>17551.25</td>\n",
       "    </tr>\n",
       "    <tr>\n",
       "      <th>4</th>\n",
       "      <td>MALE</td>\n",
       "      <td>HIGH SCHOOL</td>\n",
       "      <td>17551.25</td>\n",
       "    </tr>\n",
       "    <tr>\n",
       "      <th>...</th>\n",
       "      <td>...</td>\n",
       "      <td>...</td>\n",
       "      <td>...</td>\n",
       "    </tr>\n",
       "    <tr>\n",
       "      <th>989</th>\n",
       "      <td>MALE</td>\n",
       "      <td>HIGH SCHOOL</td>\n",
       "      <td>1478.00</td>\n",
       "    </tr>\n",
       "    <tr>\n",
       "      <th>990</th>\n",
       "      <td>MALE</td>\n",
       "      <td>HIGH SCHOOL</td>\n",
       "      <td>33255.00</td>\n",
       "    </tr>\n",
       "    <tr>\n",
       "      <th>991</th>\n",
       "      <td>MALE</td>\n",
       "      <td>HIGH SCHOOL</td>\n",
       "      <td>8313.75</td>\n",
       "    </tr>\n",
       "    <tr>\n",
       "      <th>992</th>\n",
       "      <td>MALE</td>\n",
       "      <td>HIGH SCHOOL</td>\n",
       "      <td>27712.50</td>\n",
       "    </tr>\n",
       "    <tr>\n",
       "      <th>993</th>\n",
       "      <td>FEMALE</td>\n",
       "      <td>HIGH SCHOOL</td>\n",
       "      <td>15703.75</td>\n",
       "    </tr>\n",
       "  </tbody>\n",
       "</table>\n",
       "<p>994 rows × 3 columns</p>\n",
       "</div>"
      ],
      "text/plain": [
       "        sex       degree    income\n",
       "0      MALE     BACHELOR  60967.50\n",
       "1    FEMALE     BACHELOR  60967.50\n",
       "2    FEMALE     BACHELOR  10161.25\n",
       "3    FEMALE  HIGH SCHOOL  17551.25\n",
       "4      MALE  HIGH SCHOOL  17551.25\n",
       "..      ...          ...       ...\n",
       "989    MALE  HIGH SCHOOL   1478.00\n",
       "990    MALE  HIGH SCHOOL  33255.00\n",
       "991    MALE  HIGH SCHOOL   8313.75\n",
       "992    MALE  HIGH SCHOOL  27712.50\n",
       "993  FEMALE  HIGH SCHOOL  15703.75\n",
       "\n",
       "[994 rows x 3 columns]"
      ]
     },
     "execution_count": 26,
     "metadata": {},
     "output_type": "execute_result"
    }
   ],
   "source": [
    "gss_df.loc[0:, 'sex':'income']"
   ]
  },
  {
   "cell_type": "markdown",
   "metadata": {
    "slideshow": {
     "slide_type": "subslide"
    }
   },
   "source": [
    "### Subset the Dataset\n",
    "|3. Subset by variable name|4. Subset by specific criteria|\n",
    "|:---|:---|\n",
    "|**`df['colname']`**<br>**`df.colname`**|**`data[data['variable'] <operator> 'criteria']`**|\n",
    "|- `data['id']`<br> - `data[['id', 'degree', 'income']]`<br>- `data.degree`|- `data[data['age'] < 50]`<br>- `data[data['sex'] == 'MALE']`<br>- `data[(data['age'] < 50) & (data['sex'] == 'MALE')]`|"
   ]
  },
  {
   "cell_type": "code",
   "execution_count": 27,
   "metadata": {
    "slideshow": {
     "slide_type": "fragment"
    }
   },
   "outputs": [
    {
     "data": {
      "text/html": [
       "<div>\n",
       "<style scoped>\n",
       "    .dataframe tbody tr th:only-of-type {\n",
       "        vertical-align: middle;\n",
       "    }\n",
       "\n",
       "    .dataframe tbody tr th {\n",
       "        vertical-align: top;\n",
       "    }\n",
       "\n",
       "    .dataframe thead th {\n",
       "        text-align: right;\n",
       "    }\n",
       "</style>\n",
       "<table border=\"1\" class=\"dataframe\">\n",
       "  <thead>\n",
       "    <tr style=\"text-align: right;\">\n",
       "      <th></th>\n",
       "      <th>id</th>\n",
       "      <th>sex</th>\n",
       "      <th>degree</th>\n",
       "      <th>income</th>\n",
       "      <th>marital</th>\n",
       "      <th>age</th>\n",
       "      <th>height</th>\n",
       "      <th>weight</th>\n",
       "      <th>hrswrk</th>\n",
       "    </tr>\n",
       "  </thead>\n",
       "  <tbody>\n",
       "    <tr>\n",
       "      <th>7</th>\n",
       "      <td>27</td>\n",
       "      <td>MALE</td>\n",
       "      <td>HIGH SCHOOL</td>\n",
       "      <td>17551.25</td>\n",
       "      <td>SEPARATED</td>\n",
       "      <td>35</td>\n",
       "      <td>70</td>\n",
       "      <td>180</td>\n",
       "      <td>40</td>\n",
       "    </tr>\n",
       "    <tr>\n",
       "      <th>11</th>\n",
       "      <td>38</td>\n",
       "      <td>MALE</td>\n",
       "      <td>HIGH SCHOOL</td>\n",
       "      <td>33255.00</td>\n",
       "      <td>DIVORCED</td>\n",
       "      <td>31</td>\n",
       "      <td>67</td>\n",
       "      <td>150</td>\n",
       "      <td>39</td>\n",
       "    </tr>\n",
       "    <tr>\n",
       "      <th>12</th>\n",
       "      <td>40</td>\n",
       "      <td>MALE</td>\n",
       "      <td>BACHELOR</td>\n",
       "      <td>73900.00</td>\n",
       "      <td>MARRIED</td>\n",
       "      <td>35</td>\n",
       "      <td>69</td>\n",
       "      <td>200</td>\n",
       "      <td>50</td>\n",
       "    </tr>\n",
       "    <tr>\n",
       "      <th>13</th>\n",
       "      <td>44</td>\n",
       "      <td>MALE</td>\n",
       "      <td>HIGH SCHOOL</td>\n",
       "      <td>24017.50</td>\n",
       "      <td>NEVER MARRIED</td>\n",
       "      <td>26</td>\n",
       "      <td>76</td>\n",
       "      <td>165</td>\n",
       "      <td>45</td>\n",
       "    </tr>\n",
       "    <tr>\n",
       "      <th>16</th>\n",
       "      <td>47</td>\n",
       "      <td>MALE</td>\n",
       "      <td>JUNIOR COLLEGE</td>\n",
       "      <td>40645.00</td>\n",
       "      <td>NEVER MARRIED</td>\n",
       "      <td>30</td>\n",
       "      <td>72</td>\n",
       "      <td>185</td>\n",
       "      <td>45</td>\n",
       "    </tr>\n",
       "  </tbody>\n",
       "</table>\n",
       "</div>"
      ],
      "text/plain": [
       "    id   sex          degree    income        marital  age  height  weight  \\\n",
       "7   27  MALE     HIGH SCHOOL  17551.25      SEPARATED   35      70     180   \n",
       "11  38  MALE     HIGH SCHOOL  33255.00       DIVORCED   31      67     150   \n",
       "12  40  MALE        BACHELOR  73900.00        MARRIED   35      69     200   \n",
       "13  44  MALE     HIGH SCHOOL  24017.50  NEVER MARRIED   26      76     165   \n",
       "16  47  MALE  JUNIOR COLLEGE  40645.00  NEVER MARRIED   30      72     185   \n",
       "\n",
       "    hrswrk  \n",
       "7       40  \n",
       "11      39  \n",
       "12      50  \n",
       "13      45  \n",
       "16      45  "
      ]
     },
     "execution_count": 27,
     "metadata": {},
     "output_type": "execute_result"
    }
   ],
   "source": [
    "gss_df[(gss_df['age'] < 50) & (gss_df['sex'] == 'MALE')].head()"
   ]
  },
  {
   "cell_type": "markdown",
   "metadata": {
    "slideshow": {
     "slide_type": "slide"
    }
   },
   "source": [
    "## Exercise 3\n",
    "Using the dataset car.csv, create subsets that meet the following criteria: \n",
    "\n",
    " - Include only cars made from USA\n",
    "     - Name this new subset data to be “usacar”. \n",
    "     - How many cars do this new dataset contain? Answer: 147\n",
    "     \n",
    " - Include cars that are made from USA AND their MSRP is larger than $40,000. \n",
    "     - Name this new subset data to be “usa40k”. \n",
    "     - How many cars do this new dataset contain?    Answer: 25 \n"
   ]
  },
  {
   "cell_type": "code",
   "execution_count": 28,
   "metadata": {
    "slideshow": {
     "slide_type": "fragment"
    }
   },
   "outputs": [
    {
     "data": {
      "text/plain": [
       "147"
      ]
     },
     "execution_count": 28,
     "metadata": {},
     "output_type": "execute_result"
    }
   ],
   "source": [
    "usacar = car[car.Origin == \"USA\" ]\n",
    "usacar.shape[0]"
   ]
  },
  {
   "cell_type": "code",
   "execution_count": 29,
   "metadata": {
    "slideshow": {
     "slide_type": "fragment"
    }
   },
   "outputs": [
    {
     "data": {
      "text/plain": [
       "25"
      ]
     },
     "execution_count": 29,
     "metadata": {},
     "output_type": "execute_result"
    }
   ],
   "source": [
    "usa40k = car[(car.Origin == \"USA\") & (car.MSRP > 40000)]\n",
    "usa40k.shape[0]"
   ]
  },
  {
   "cell_type": "markdown",
   "metadata": {
    "slideshow": {
     "slide_type": "slide"
    }
   },
   "source": [
    "## Summary Report\n",
    "- Summary of each variable: `df.describe()`\n",
    "- Summary statistics for subgroups/categories: \n",
    "    - Example question: According to this dataset, what is the average income by sex?"
   ]
  },
  {
   "cell_type": "code",
   "execution_count": 30,
   "metadata": {
    "slideshow": {
     "slide_type": "fragment"
    }
   },
   "outputs": [
    {
     "data": {
      "text/html": [
       "<div>\n",
       "<style scoped>\n",
       "    .dataframe tbody tr th:only-of-type {\n",
       "        vertical-align: middle;\n",
       "    }\n",
       "\n",
       "    .dataframe tbody tr th {\n",
       "        vertical-align: top;\n",
       "    }\n",
       "\n",
       "    .dataframe thead th {\n",
       "        text-align: right;\n",
       "    }\n",
       "</style>\n",
       "<table border=\"1\" class=\"dataframe\">\n",
       "  <thead>\n",
       "    <tr style=\"text-align: right;\">\n",
       "      <th></th>\n",
       "      <th>income</th>\n",
       "    </tr>\n",
       "    <tr>\n",
       "      <th>sex</th>\n",
       "      <th></th>\n",
       "    </tr>\n",
       "  </thead>\n",
       "  <tbody>\n",
       "    <tr>\n",
       "      <th>FEMALE</th>\n",
       "      <td>27300.446119</td>\n",
       "    </tr>\n",
       "    <tr>\n",
       "      <th>MALE</th>\n",
       "      <td>46095.814166</td>\n",
       "    </tr>\n",
       "  </tbody>\n",
       "</table>\n",
       "</div>"
      ],
      "text/plain": [
       "              income\n",
       "sex                 \n",
       "FEMALE  27300.446119\n",
       "MALE    46095.814166"
      ]
     },
     "execution_count": 30,
     "metadata": {},
     "output_type": "execute_result"
    }
   ],
   "source": [
    "gss_df.groupby(['sex'])[['income']].aggregate('mean')"
   ]
  },
  {
   "cell_type": "markdown",
   "metadata": {
    "slideshow": {
     "slide_type": "slide"
    }
   },
   "source": [
    "## Exercise 4\n",
    "Based on the car.csv dataset, what is the average MSRP for cars made from Asia, Europe and USA, respectively? \n",
    "\n",
    "Answer: 24741.32, 48349.80, 28377.44"
   ]
  },
  {
   "cell_type": "code",
   "execution_count": 31,
   "metadata": {
    "slideshow": {
     "slide_type": "fragment"
    }
   },
   "outputs": [
    {
     "data": {
      "text/plain": [
       "Origin\n",
       "Asia      24741.322785\n",
       "Europe    48349.796748\n",
       "USA       28377.442177\n",
       "Name: MSRP, dtype: float64"
      ]
     },
     "execution_count": 31,
     "metadata": {},
     "output_type": "execute_result"
    }
   ],
   "source": [
    "car.groupby(\"Origin\")[\"MSRP\"].mean()"
   ]
  },
  {
   "cell_type": "code",
   "execution_count": 32,
   "metadata": {
    "slideshow": {
     "slide_type": "fragment"
    }
   },
   "outputs": [
    {
     "data": {
      "text/html": [
       "<div>\n",
       "<style scoped>\n",
       "    .dataframe tbody tr th:only-of-type {\n",
       "        vertical-align: middle;\n",
       "    }\n",
       "\n",
       "    .dataframe tbody tr th {\n",
       "        vertical-align: top;\n",
       "    }\n",
       "\n",
       "    .dataframe thead th {\n",
       "        text-align: right;\n",
       "    }\n",
       "</style>\n",
       "<table border=\"1\" class=\"dataframe\">\n",
       "  <thead>\n",
       "    <tr style=\"text-align: right;\">\n",
       "      <th></th>\n",
       "      <th>Origin</th>\n",
       "      <th>MSRP</th>\n",
       "    </tr>\n",
       "  </thead>\n",
       "  <tbody>\n",
       "    <tr>\n",
       "      <th>0</th>\n",
       "      <td>Asia</td>\n",
       "      <td>24741.322785</td>\n",
       "    </tr>\n",
       "    <tr>\n",
       "      <th>1</th>\n",
       "      <td>Europe</td>\n",
       "      <td>48349.796748</td>\n",
       "    </tr>\n",
       "    <tr>\n",
       "      <th>2</th>\n",
       "      <td>USA</td>\n",
       "      <td>28377.442177</td>\n",
       "    </tr>\n",
       "  </tbody>\n",
       "</table>\n",
       "</div>"
      ],
      "text/plain": [
       "   Origin          MSRP\n",
       "0    Asia  24741.322785\n",
       "1  Europe  48349.796748\n",
       "2     USA  28377.442177"
      ]
     },
     "execution_count": 32,
     "metadata": {},
     "output_type": "execute_result"
    }
   ],
   "source": [
    "car.groupby(\"Origin\", as_index=False)[\"MSRP\"].mean()"
   ]
  },
  {
   "cell_type": "code",
   "execution_count": 33,
   "metadata": {
    "slideshow": {
     "slide_type": "fragment"
    }
   },
   "outputs": [
    {
     "data": {
      "text/html": [
       "<div>\n",
       "<style scoped>\n",
       "    .dataframe tbody tr th:only-of-type {\n",
       "        vertical-align: middle;\n",
       "    }\n",
       "\n",
       "    .dataframe tbody tr th {\n",
       "        vertical-align: top;\n",
       "    }\n",
       "\n",
       "    .dataframe thead th {\n",
       "        text-align: right;\n",
       "    }\n",
       "</style>\n",
       "<table border=\"1\" class=\"dataframe\">\n",
       "  <thead>\n",
       "    <tr style=\"text-align: right;\">\n",
       "      <th></th>\n",
       "      <th>MSRP</th>\n",
       "    </tr>\n",
       "    <tr>\n",
       "      <th>Origin</th>\n",
       "      <th></th>\n",
       "    </tr>\n",
       "  </thead>\n",
       "  <tbody>\n",
       "    <tr>\n",
       "      <th>Asia</th>\n",
       "      <td>24741.322785</td>\n",
       "    </tr>\n",
       "    <tr>\n",
       "      <th>Europe</th>\n",
       "      <td>48349.796748</td>\n",
       "    </tr>\n",
       "    <tr>\n",
       "      <th>USA</th>\n",
       "      <td>28377.442177</td>\n",
       "    </tr>\n",
       "  </tbody>\n",
       "</table>\n",
       "</div>"
      ],
      "text/plain": [
       "                MSRP\n",
       "Origin              \n",
       "Asia    24741.322785\n",
       "Europe  48349.796748\n",
       "USA     28377.442177"
      ]
     },
     "execution_count": 33,
     "metadata": {},
     "output_type": "execute_result"
    }
   ],
   "source": [
    "car.groupby([\"Origin\"])[[\"MSRP\"]].aggregate(\"mean\")"
   ]
  },
  {
   "cell_type": "markdown",
   "metadata": {
    "slideshow": {
     "slide_type": "slide"
    }
   },
   "source": [
    "## Plotting in Python/Pandas\n",
    "We need to import `matplotlib`, a popular scientific plotting library"
   ]
  },
  {
   "cell_type": "code",
   "execution_count": 34,
   "metadata": {
    "slideshow": {
     "slide_type": "fragment"
    }
   },
   "outputs": [],
   "source": [
    "# This command forces plots to display in Jupyter Notebooks\n",
    "%matplotlib inline \n",
    "# This command imports matplotlib and assigns the alias plt\n",
    "import matplotlib.pyplot as plt"
   ]
  },
  {
   "cell_type": "markdown",
   "metadata": {
    "slideshow": {
     "slide_type": "subslide"
    }
   },
   "source": [
    "### Univariate Graph: Histogram\n",
    "More information on plotting historgrams [here](https://pythonspot.com/matplotlib-histogram/)"
   ]
  },
  {
   "cell_type": "code",
   "execution_count": 35,
   "metadata": {
    "slideshow": {
     "slide_type": "fragment"
    }
   },
   "outputs": [
    {
     "data": {
      "text/plain": [
       "Text(0, 0.5, 'Frequency')"
      ]
     },
     "execution_count": 35,
     "metadata": {},
     "output_type": "execute_result"
    },
    {
     "data": {
      "image/png": "[encoded data removed]",
      "text/plain": [
       "<Figure size 432x288 with 1 Axes>"
      ]
     },
     "metadata": {
      "needs_background": "light"
     },
     "output_type": "display_data"
    }
   ],
   "source": [
    "# Graph the data\n",
    "plt.hist(gss_df['income'], edgecolor='black', linewidth='1', alpha=0.5)\n",
    "# Add title and axes labels\n",
    "plt.title('Histogram of Income')\n",
    "plt.xlabel('Annual Income')\n",
    "plt.ylabel('Frequency')"
   ]
  },
  {
   "cell_type": "markdown",
   "metadata": {
    "slideshow": {
     "slide_type": "subslide"
    }
   },
   "source": [
    "### Another way to Create a Histogram\n",
    "The `plot()` function is useful for when you don't want to mess with the aesthetics of graph."
   ]
  },
  {
   "cell_type": "code",
   "execution_count": 36,
   "metadata": {
    "scrolled": true,
    "slideshow": {
     "slide_type": "fragment"
    }
   },
   "outputs": [
    {
     "data": {
      "text/plain": [
       "[Text(0.5, 0, 'Annual Income')]"
      ]
     },
     "execution_count": 36,
     "metadata": {},
     "output_type": "execute_result"
    },
    {
     "data": {
      "image/png": "[encoded data removed]",
      "text/plain": [
       "<Figure size 432x288 with 1 Axes>"
      ]
     },
     "metadata": {
      "needs_background": "light"
     },
     "output_type": "display_data"
    }
   ],
   "source": [
    "gss_df['income'].plot(kind='hist', title='Histogram of Income').set(xlabel='Annual Income')"
   ]
  },
  {
   "cell_type": "markdown",
   "metadata": {
    "slideshow": {
     "slide_type": "subslide"
    }
   },
   "source": [
    "### Univariate Graph: Bar Chart"
   ]
  },
  {
   "cell_type": "code",
   "execution_count": 37,
   "metadata": {
    "slideshow": {
     "slide_type": "fragment"
    }
   },
   "outputs": [
    {
     "data": {
      "text/plain": [
       "<matplotlib.axes._subplots.AxesSubplot at 0x26f81d42160>"
      ]
     },
     "execution_count": 37,
     "metadata": {},
     "output_type": "execute_result"
    },
    {
     "data": {
      "image/png": "[encoded data removed]",
      "text/plain": [
       "<Figure size 432x288 with 1 Axes>"
      ]
     },
     "metadata": {
      "needs_background": "light"
     },
     "output_type": "display_data"
    }
   ],
   "source": [
    "# To plot a single variable on a bar chart, we need\n",
    "# to count the individual values first\n",
    "gss_df['marital'].value_counts().plot(kind='bar')"
   ]
  },
  {
   "cell_type": "markdown",
   "metadata": {
    "slideshow": {
     "slide_type": "subslide"
    }
   },
   "source": [
    "### Bivariate Graph: Scatterplot"
   ]
  },
  {
   "cell_type": "code",
   "execution_count": 38,
   "metadata": {
    "slideshow": {
     "slide_type": "fragment"
    }
   },
   "outputs": [
    {
     "data": {
      "text/plain": [
       "Text(0, 0.5, 'Annual Income')"
      ]
     },
     "execution_count": 38,
     "metadata": {},
     "output_type": "execute_result"
    },
    {
     "data": {
      "image/png": "[encoded data removed]",
      "text/plain": [
       "<Figure size 432x288 with 1 Axes>"
      ]
     },
     "metadata": {
      "needs_background": "light"
     },
     "output_type": "display_data"
    }
   ],
   "source": [
    "# Graph the data\n",
    "plt.scatter(gss_df['hrswrk'], gss_df['income'])\n",
    "# Set the axes and title labels\n",
    "plt.title('Plot of Income and Working Hours')\n",
    "plt.xlabel('Working Hours')\n",
    "plt.ylabel('Annual Income')"
   ]
  },
  {
   "cell_type": "markdown",
   "metadata": {
    "slideshow": {
     "slide_type": "slide"
    }
   },
   "source": [
    "## Exercise 5\n",
    "Using “car.csv”, \n",
    "\n",
    "1. Plot a histogram on MSRP\n",
    "2. Plot a bar chart on car’s Origin \n",
    "3. Draw a scatter plot showing the relation between MSRP (Y axis) and Horsepower (X axis)"
   ]
  },
  {
   "cell_type": "code",
   "execution_count": 39,
   "metadata": {
    "slideshow": {
     "slide_type": "subslide"
    }
   },
   "outputs": [
    {
     "data": {
      "text/plain": [
       "Text(0, 0.5, 'Frequency')"
      ]
     },
     "execution_count": 39,
     "metadata": {},
     "output_type": "execute_result"
    },
    {
     "data": {
      "image/png": "[encoded data removed]",
      "text/plain": [
       "<Figure size 432x288 with 1 Axes>"
      ]
     },
     "metadata": {
      "needs_background": "light"
     },
     "output_type": "display_data"
    }
   ],
   "source": [
    "plt.hist(car.MSRP)\n",
    "plt.title(\"Histogram of MSRP\")\n",
    "plt.xlabel(\"MSRP\")\n",
    "plt.ylabel(\"Frequency\")"
   ]
  },
  {
   "cell_type": "code",
   "execution_count": 40,
   "metadata": {
    "slideshow": {
     "slide_type": "subslide"
    }
   },
   "outputs": [
    {
     "data": {
      "text/plain": [
       "<matplotlib.axes._subplots.AxesSubplot at 0x26f81e73240>"
      ]
     },
     "execution_count": 40,
     "metadata": {},
     "output_type": "execute_result"
    },
    {
     "data": {
      "image/png": "[encoded data removed]",
      "text/plain": [
       "<Figure size 432x288 with 1 Axes>"
      ]
     },
     "metadata": {
      "needs_background": "light"
     },
     "output_type": "display_data"
    }
   ],
   "source": [
    "car.Origin.value_counts().plot(kind = 'bar')"
   ]
  },
  {
   "cell_type": "code",
   "execution_count": 41,
   "metadata": {
    "slideshow": {
     "slide_type": "subslide"
    }
   },
   "outputs": [
    {
     "data": {
      "text/plain": [
       "Text(0, 0.5, 'MSRP')"
      ]
     },
     "execution_count": 41,
     "metadata": {},
     "output_type": "execute_result"
    },
    {
     "data": {
      "image/png": "[encoded data removed]",
      "text/plain": [
       "<Figure size 432x288 with 1 Axes>"
      ]
     },
     "metadata": {
      "needs_background": "light"
     },
     "output_type": "display_data"
    }
   ],
   "source": [
    "plt.scatter(car.Horsepower, car.MSRP)\n",
    "plt.title('Plot of MSRP and Horsepower')\n",
    "plt.xlabel('Horsepower')\n",
    "plt.ylabel('MSRP')"
   ]
  },
  {
   "cell_type": "markdown",
   "metadata": {
    "slideshow": {
     "slide_type": "slide"
    }
   },
   "source": [
    "## Simple Linear Regression\n",
    "<center>${y} = \\beta_0+\\beta_1{x}+ \\varepsilon $</center>\n",
    "\n",
    "    - ${y}$ : dependent variable\n",
    "    - ${x}$ : independent variable\n",
    "    - $\\varepsilon$ : error term\n",
    "    - $\\beta_0$ : intercept\n",
    "    - $\\beta_1$ : slope"
   ]
  },
  {
   "cell_type": "markdown",
   "metadata": {
    "slideshow": {
     "slide_type": "subslide"
    }
   },
   "source": [
    "## Simple Linear Regression\n",
    "1. **F-test ${p}$-value**: *Is this model statistically significant?*\n",
    "2. **${r}^2$**: *How much variance in ${y}$ can be explained by the variance in ${x}$?*\n",
    "3. **Intercept**\n",
    "4. **Slope**"
   ]
  },
  {
   "cell_type": "code",
   "execution_count": 42,
   "metadata": {
    "slideshow": {
     "slide_type": "subslide"
    }
   },
   "outputs": [
    {
     "name": "stdout",
     "output_type": "stream",
     "text": [
      "                            OLS Regression Results                            \n",
      "==============================================================================\n",
      "Dep. Variable:                 income   R-squared:                       0.118\n",
      "Model:                            OLS   Adj. R-squared:                  0.117\n",
      "Method:                 Least Squares   F-statistic:                     132.3\n",
      "Date:                Tue, 17 Sep 2019   Prob (F-statistic):           7.79e-29\n",
      "Time:                        12:05:10   Log-Likelihood:                -11740.\n",
      "No. Observations:                 994   AIC:                         2.348e+04\n",
      "Df Residuals:                     992   BIC:                         2.349e+04\n",
      "Df Model:                           1                                         \n",
      "Covariance Type:            nonrobust                                         \n",
      "==============================================================================\n",
      "                 coef    std err          t      P>|t|      [0.025      0.975]\n",
      "------------------------------------------------------------------------------\n",
      "Intercept   1621.4901   3235.485      0.501      0.616   -4727.690    7970.670\n",
      "hrswrk       827.0410     71.895     11.503      0.000     685.957     968.125\n",
      "==============================================================================\n",
      "Omnibus:                      421.362   Durbin-Watson:                   1.708\n",
      "Prob(Omnibus):                  0.000   Jarque-Bera (JB):             1713.357\n",
      "Skew:                           2.027   Prob(JB):                         0.00\n",
      "Kurtosis:                       7.993   Cond. No.                         141.\n",
      "==============================================================================\n",
      "\n",
      "Warnings:\n",
      "[1] Standard Errors assume that the covariance matrix of the errors is correctly specified.\n"
     ]
    }
   ],
   "source": [
    "import statsmodels.formula.api as smf\n",
    "\n",
    "# This is the easier way of implementing a linear model using\n",
    "# R-like formulas\n",
    "model1 = smf.ols(formula='income ~ hrswrk', data=gss_df).fit() # Note the lowercase 'ols'\n",
    "print(model1.summary())                                        # Required to use patsy formulae"
   ]
  },
  {
   "cell_type": "markdown",
   "metadata": {
    "slideshow": {
     "slide_type": "slide"
    }
   },
   "source": [
    "## Exercise 6\n",
    "Using the car.csv data, answer the following questions:\n",
    "\n",
    " - Run a simple linear regression explaining MSRP by Horsepower\n",
    " - Using the regression output, write down the model equation as comment in your script\n",
    " - Is the model significant on alpha = 0.05? \n"
   ]
  },
  {
   "cell_type": "code",
   "execution_count": 43,
   "metadata": {
    "slideshow": {
     "slide_type": "subslide"
    }
   },
   "outputs": [
    {
     "name": "stdout",
     "output_type": "stream",
     "text": [
      "                            OLS Regression Results                            \n",
      "==============================================================================\n",
      "Dep. Variable:                   MSRP   R-squared:                       0.684\n",
      "Model:                            OLS   Adj. R-squared:                  0.683\n",
      "Method:                 Least Squares   F-statistic:                     921.4\n",
      "Date:                Tue, 17 Sep 2019   Prob (F-statistic):          1.41e-108\n",
      "Time:                        12:05:12   Log-Likelihood:                -4586.7\n",
      "No. Observations:                 428   AIC:                             9177.\n",
      "Df Residuals:                     426   BIC:                             9186.\n",
      "Df Model:                           1                                         \n",
      "Covariance Type:            nonrobust                                         \n",
      "==============================================================================\n",
      "                 coef    std err          t      P>|t|      [0.025      0.975]\n",
      "------------------------------------------------------------------------------\n",
      "Intercept  -1.552e+04   1676.466     -9.255      0.000   -1.88e+04   -1.22e+04\n",
      "Horsepower   223.6894      7.369     30.355      0.000     209.205     238.174\n",
      "==============================================================================\n",
      "Omnibus:                      284.973   Durbin-Watson:                   1.116\n",
      "Prob(Omnibus):                  0.000   Jarque-Bera (JB):             6186.310\n",
      "Skew:                           2.474   Prob(JB):                         0.00\n",
      "Kurtosis:                      20.956   Cond. No.                         721.\n",
      "==============================================================================\n",
      "\n",
      "Warnings:\n",
      "[1] Standard Errors assume that the covariance matrix of the errors is correctly specified.\n"
     ]
    }
   ],
   "source": [
    "mod = smf.ols('MSRP ~ Horsepower', data = car).fit()\n",
    "print(mod.summary())"
   ]
  },
  {
   "cell_type": "markdown",
   "metadata": {
    "slideshow": {
     "slide_type": "slide"
    }
   },
   "source": [
    "## Thank you!\n",
    "\n",
    "\n",
    "\n",
    "### David Durden\n",
    "✉️ [durden@umd.edu](mailto:durden@umd.edu)<br>\n",
    "🖥 [https://lib.umd.edu/data]()\n",
    "\n",
    "### Yishan Ding\n",
    "✉️ [ysding@umd.edu](mailto:ysding@umd.edu)<br>\n",
    "🖥 [https://lib.umd.edu/rc/statistical-consulting]()"
   ]
  }
 ],
 "metadata": {
  "celltoolbar": "Slideshow",
  "kernelspec": {
   "display_name": "Python 3",
   "language": "python",
   "name": "python3"
  },
  "language_info": {
   "codemirror_mode": {
    "name": "ipython",
    "version": 3
   },
   "file_extension": ".py",
   "mimetype": "text/x-python",
   "name": "python",
   "nbconvert_exporter": "python",
   "pygments_lexer": "ipython3",
   "version": "3.7.3"
  }
 },
 "nbformat": 4,
 "nbformat_minor": 2
}
