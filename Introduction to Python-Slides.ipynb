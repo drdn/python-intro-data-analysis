{
 "cells": [
  {
   "cell_type": "markdown",
   "metadata": {
    "slideshow": {
     "slide_type": "slide"
    }
   },
   "source": [
    "# Introduction to Python<br>Basics of Data Analysis Using Pandas\n",
    "\n",
    "David Durden, Data Services Librarian <br>\n",
    "Yishan Ding, Statistical Consulting Graduate Assistant\n",
    "\n",
    "<img src=\"assets/python-logo.png\" alt=\"Python Logo\" width=\"200\" align=\"right\"/>\n",
    "\n"
   ]
  },
  {
   "cell_type": "markdown",
   "metadata": {
    "slideshow": {
     "slide_type": "slide"
    }
   },
   "source": [
    "## What is Python?\n",
    "\n",
    "- An interpreted high-level general-purpose programming language\n",
    "- Both a programming language and a tool that executes scripts written in Python\n",
    "- Python was created Guido van Rossum and released in 1991\n",
    "\n",
    "<img src=\"assets/guido.png\" alt=\"Guido van Rossum\" width=\"100\" align=\"right\"/>\n",
    "\n",
    "## Why use Python?\n",
    "\n",
    "- Free\n",
    "- Open-source with active development\n",
    "- Available on all major OS's (MacOS, Linux, Windows)\n",
    "- Large community\n",
    "- Easy-to-learn*\n",
    "- Encourages re-use and reproducibility\n",
    "- Interdisciplinary and extensible\n"
   ]
  },
  {
   "cell_type": "markdown",
   "metadata": {
    "slideshow": {
     "slide_type": "slide"
    }
   },
   "source": [
    "## Species of Python\n",
    "[Anaconda](https://www.anaconda.com/) is a specific distribution of Python that includes a lot of popular packages by default, including IPython console, Jupyter Notebook, Pandas, and others.\n",
    "\n",
    "Several OS's come with Python installed by default. However, the system Python is often used by the operating system. Modifying the system Python *can* result in some programs not working correctly."
   ]
  },
  {
   "cell_type": "markdown",
   "metadata": {
    "slideshow": {
     "slide_type": "slide"
    }
   },
   "source": [
    "## Outline for Today's Workshop\n",
    "- [Some basic Python commands](#start)\n",
    "- [Introduction to Pandas for data analysis](#pandas)\n",
    "- [Data import and preview](#import)\n",
    "- [Subsetting data](#subset)\n",
    "- [Summary statistics and reporting](#sumrep)\n",
    "- [Simple plots](#plots)\n",
    "- [Simple Linear Regression](#model)"
   ]
  },
  {
   "cell_type": "markdown",
   "metadata": {
    "slideshow": {
     "slide_type": "slide"
    }
   },
   "source": [
    "## Set Up Your Environment\n",
    "\n",
    "We will be using a Jupyter Notebook for this workshop to avoid having to edit text files and execute them at the Command Line.\n",
    "\n",
    "Python can be run in interactive mode: You can type commands directly into the Python interpreter and see results. Open your Command Prompt or Terminal application and type `python`.\n",
    "\n",
    "Using the interpreter is useful for testing code and getting immediate results. However, you cannot easily edit those commands or save your work. "
   ]
  },
  {
   "cell_type": "markdown",
   "metadata": {
    "slideshow": {
     "slide_type": "subslide"
    }
   },
   "source": [
    "### Creating Python Scripts\n",
    "Instead of using the interpreter, we can also write Python programs and then run them.\n",
    "\n",
    "To get started, use a plain text editor like:\n",
    "- [BBedit](https://www.barebones.com/products/bbedit/index.html)\n",
    "- [Atom](https://atom.io/)\n",
    "- [Notepad++](https://notepad-plus-plus.org/)\n",
    "\n",
    "Text documents should be set up a specific way in order to read a valid Python code.\n",
    "- The first line of your document should always be: `#! /usr/bin/env python`\n",
    "- Save your file with `.py`\n",
    "\n",
    "When you have written a program, you can run it using the following basic command: `python my_program.py`"
   ]
  },
  {
   "cell_type": "markdown",
   "metadata": {
    "slideshow": {
     "slide_type": "slide"
    }
   },
   "source": [
    "## Getting Started\n",
    "\n",
    "- Meet the print statement\n",
    "    - `print(\"Hello World!\")`"
   ]
  },
  {
   "cell_type": "code",
   "execution_count": 1,
   "metadata": {
    "slideshow": {
     "slide_type": "fragment"
    }
   },
   "outputs": [
    {
     "name": "stdout",
     "output_type": "stream",
     "text": [
      "Hello World!\n"
     ]
    }
   ],
   "source": [
    "print(\"Hello World!\")"
   ]
  },
  {
   "cell_type": "markdown",
   "metadata": {
    "slideshow": {
     "slide_type": "fragment"
    }
   },
   "source": [
    ">**Fun fact**: Printing `Hello world!` to the screen is a rhetorical function used by programmers to test that their systems are operating correctly. Incidentally, this has also become one of the first programs that you learn in almost every programming language. The creation of this function is attributed to Brian Kernighan, who first published it in a code snippet in *A Tutorial Introduction to the Programming Language B* in 1973."
   ]
  },
  {
   "cell_type": "markdown",
   "metadata": {
    "slideshow": {
     "slide_type": "subslide"
    }
   },
   "source": [
    "### Assign values to a variable\n",
    "You can store anything in a variable in Python. \n",
    "- `x = 3 # Assign a single integer value`\n",
    "- `y = [1, 2, 3] # Assign a list of integer values`\n",
    "- `z = [\"a\", \"b\", \"c\"] # Assign a list of character values`\n",
    "- `a = [y, z] # Assign a list of variables`\n",
    "- `b = a # Assign a variable to a variable`\n",
    "\n",
    ">TIP: You can either 'call' a variable directly or print it using the `print()` function."
   ]
  },
  {
   "cell_type": "markdown",
   "metadata": {
    "slideshow": {
     "slide_type": "subslide"
    }
   },
   "source": [
    "### Variables"
   ]
  },
  {
   "cell_type": "code",
   "execution_count": 32,
   "metadata": {
    "slideshow": {
     "slide_type": "fragment"
    }
   },
   "outputs": [
    {
     "name": "stdout",
     "output_type": "stream",
     "text": [
      "3\n",
      "[1, 2, 3]\n",
      "['a', 'b', 'c']\n",
      "[3, [1, 2, 3]]\n",
      "[3, [1, 2, 3]]\n"
     ]
    }
   ],
   "source": [
    "x = 3 # Assign a single integer value\n",
    "y = [1, 2, 3] # Assign a list of integer values\n",
    "z = [\"a\", \"b\", \"c\"] # Assign a list of character values\n",
    "a = [x, y] # Assign a list of variables\n",
    "b = a\n",
    "\n",
    "print(x)\n",
    "print(y)\n",
    "print(z)\n",
    "print(a)\n",
    "print(b)"
   ]
  },
  {
   "cell_type": "markdown",
   "metadata": {
    "slideshow": {
     "slide_type": "subslide"
    }
   },
   "source": [
    "### Using Python as a Calculator\n",
    "\n",
    "- `35*40/4`\n",
    "- `((6-4)*(2+5))/5`\n",
    "- Advanced mathematical concepts are implemented in the `math` library which needs to be imported before we can use it\n",
    "    - `from math import sqrt`\n",
    "        - `sqrt(2)`"
   ]
  },
  {
   "cell_type": "markdown",
   "metadata": {
    "slideshow": {
     "slide_type": "subslide"
    }
   },
   "source": [
    "### Do some Arithmetic"
   ]
  },
  {
   "cell_type": "code",
   "execution_count": 3,
   "metadata": {
    "slideshow": {
     "slide_type": "fragment"
    }
   },
   "outputs": [
    {
     "data": {
      "text/plain": [
       "350.0"
      ]
     },
     "execution_count": 3,
     "metadata": {},
     "output_type": "execute_result"
    }
   ],
   "source": [
    "35*40/4"
   ]
  },
  {
   "cell_type": "code",
   "execution_count": 4,
   "metadata": {
    "slideshow": {
     "slide_type": "fragment"
    }
   },
   "outputs": [
    {
     "data": {
      "text/plain": [
       "1.4142135623730951"
      ]
     },
     "execution_count": 4,
     "metadata": {},
     "output_type": "execute_result"
    }
   ],
   "source": [
    "from math import sqrt\n",
    "sqrt(2)"
   ]
  },
  {
   "cell_type": "markdown",
   "metadata": {
    "slideshow": {
     "slide_type": "slide"
    }
   },
   "source": [
    "## 5 Basic Data Types\n",
    "\n",
    "Type     | Example\n",
    "--------- | -------\n",
    "Integer   | `3` or `int(3)`\n",
    "Float     | `3.1415` or `float(6/5)`\n",
    "Character | `\"a\"`, `\"b\"`, `\"University of Maryland\"` or `str()`\n",
    "Logical   | `True`, `False` or `bool()`\n",
    "Complex   | `1+4j` or `complex(1, 4)`\n",
    "\n",
    "- To determine an object type, use `type()`\n",
    "- To test if an object is a specific type, use `isinstance()`\n",
    "- To change type, use `int()`, `float()`, `str()`, `bool()`, `complex()`\n"
   ]
  },
  {
   "cell_type": "markdown",
   "metadata": {
    "slideshow": {
     "slide_type": "subslide"
    }
   },
   "source": [
    "### Data Types"
   ]
  },
  {
   "cell_type": "code",
   "execution_count": 5,
   "metadata": {
    "slideshow": {
     "slide_type": "fragment"
    }
   },
   "outputs": [
    {
     "data": {
      "text/plain": [
       "int"
      ]
     },
     "execution_count": 5,
     "metadata": {},
     "output_type": "execute_result"
    }
   ],
   "source": [
    "type(3)"
   ]
  },
  {
   "cell_type": "code",
   "execution_count": 33,
   "metadata": {
    "slideshow": {
     "slide_type": "fragment"
    }
   },
   "outputs": [
    {
     "data": {
      "text/plain": [
       "float"
      ]
     },
     "execution_count": 33,
     "metadata": {},
     "output_type": "execute_result"
    }
   ],
   "source": [
    "type(3.1415)"
   ]
  },
  {
   "cell_type": "code",
   "execution_count": 34,
   "metadata": {
    "slideshow": {
     "slide_type": "fragment"
    }
   },
   "outputs": [
    {
     "data": {
      "text/plain": [
       "str"
      ]
     },
     "execution_count": 34,
     "metadata": {},
     "output_type": "execute_result"
    }
   ],
   "source": [
    "type(\"Testudo\")"
   ]
  },
  {
   "cell_type": "code",
   "execution_count": 6,
   "metadata": {
    "slideshow": {
     "slide_type": "fragment"
    }
   },
   "outputs": [
    {
     "data": {
      "text/plain": [
       "True"
      ]
     },
     "execution_count": 6,
     "metadata": {},
     "output_type": "execute_result"
    }
   ],
   "source": [
    "foo = 6/5\n",
    "isinstance(foo, float)"
   ]
  },
  {
   "cell_type": "code",
   "execution_count": 7,
   "metadata": {
    "slideshow": {
     "slide_type": "fragment"
    }
   },
   "outputs": [
    {
     "data": {
      "text/plain": [
       "(1+4j)"
      ]
     },
     "execution_count": 7,
     "metadata": {},
     "output_type": "execute_result"
    }
   ],
   "source": [
    "complex(1, 4)"
   ]
  },
  {
   "cell_type": "markdown",
   "metadata": {
    "slideshow": {
     "slide_type": "slide"
    }
   },
   "source": [
    "## Pandas: The Python Data Analysis Library\n",
    "\n",
    "[Pandas](https://pandas.pydata.org/) is already included by default in Anaconda Python. If you are using a different distribution you will have to download and install Pandas.\n",
    "\n",
    "Pandas provides easy-to-use methods for working with data structures and performing data analysis using the Python language and enviroment.\n",
    "\n",
    "Many of the commands and capabilities are similar to R.\n",
    "\n",
    ">We have to import Pandas before we can use it, similar to how we imported the `math` library.\n",
    "- `import pandas`\n",
    "- `import pandas as pd`\n"
   ]
  },
  {
   "cell_type": "markdown",
   "metadata": {
    "slideshow": {
     "slide_type": "subslide"
    }
   },
   "source": [
    "### Import Pandas"
   ]
  },
  {
   "cell_type": "code",
   "execution_count": 22,
   "metadata": {
    "slideshow": {
     "slide_type": "fragment"
    }
   },
   "outputs": [],
   "source": [
    "# To get started using Pandas we have to import it first\n",
    "import pandas\n",
    "\n",
    "# Imported libraries can be aliased to make code shorter \n",
    "# and easier to type\n",
    "# pd is the common alias for Pandas\n",
    "import pandas as pd\n",
    "# This is an optional parameter to limit the amount of \n",
    "# rows printed to the screen\n",
    "pd.set_option('display.max_rows', 10) "
   ]
  },
  {
   "cell_type": "markdown",
   "metadata": {
    "slideshow": {
     "slide_type": "slide"
    }
   },
   "source": [
    "## Basic Commands\n",
    "\n",
    "Here are the basic commands when working with DataFrames in Pandas\n",
    "\n",
    "|    |    |\n",
    "|:---|:---|\n",
    "|`df.max()`<br>`df.min()`<br>`df.mean()`<br>`df.median()`<br>`df.sum()`<br>`df.cumsum()`|`df.var()`<br>`df.std()`<br>`len(df.index)` or `df.count()`<br>`df.describe()`<br>`df[]`|"
   ]
  },
  {
   "cell_type": "markdown",
   "metadata": {
    "slideshow": {
     "slide_type": "slide"
    }
   },
   "source": [
    "## Import a Dataset\n",
    "\n",
    "We will begin by importing the `GSSsubset.csv` file\n",
    "\n",
    "Pandas uses the `read_csv()` function to import csv files.\n",
    "\n",
    ">File names are string data are should be wrapped in quotes!"
   ]
  },
  {
   "cell_type": "code",
   "execution_count": 23,
   "metadata": {
    "slideshow": {
     "slide_type": "subslide"
    }
   },
   "outputs": [
    {
     "data": {
      "text/html": [
       "<div>\n",
       "<style scoped>\n",
       "    .dataframe tbody tr th:only-of-type {\n",
       "        vertical-align: middle;\n",
       "    }\n",
       "\n",
       "    .dataframe tbody tr th {\n",
       "        vertical-align: top;\n",
       "    }\n",
       "\n",
       "    .dataframe thead th {\n",
       "        text-align: right;\n",
       "    }\n",
       "</style>\n",
       "<table border=\"1\" class=\"dataframe\">\n",
       "  <thead>\n",
       "    <tr style=\"text-align: right;\">\n",
       "      <th></th>\n",
       "      <th>id</th>\n",
       "      <th>sex</th>\n",
       "      <th>degree</th>\n",
       "      <th>income</th>\n",
       "      <th>marital</th>\n",
       "      <th>age</th>\n",
       "      <th>height</th>\n",
       "      <th>weight</th>\n",
       "      <th>hrswrk</th>\n",
       "    </tr>\n",
       "  </thead>\n",
       "  <tbody>\n",
       "    <tr>\n",
       "      <th>0</th>\n",
       "      <td>1</td>\n",
       "      <td>MALE</td>\n",
       "      <td>BACHELOR</td>\n",
       "      <td>60967.50</td>\n",
       "      <td>DIVORCED</td>\n",
       "      <td>53</td>\n",
       "      <td>72</td>\n",
       "      <td>190</td>\n",
       "      <td>60</td>\n",
       "    </tr>\n",
       "    <tr>\n",
       "      <th>1</th>\n",
       "      <td>2</td>\n",
       "      <td>FEMALE</td>\n",
       "      <td>BACHELOR</td>\n",
       "      <td>60967.50</td>\n",
       "      <td>MARRIED</td>\n",
       "      <td>26</td>\n",
       "      <td>60</td>\n",
       "      <td>97</td>\n",
       "      <td>40</td>\n",
       "    </tr>\n",
       "    <tr>\n",
       "      <th>2</th>\n",
       "      <td>4</td>\n",
       "      <td>FEMALE</td>\n",
       "      <td>BACHELOR</td>\n",
       "      <td>10161.25</td>\n",
       "      <td>MARRIED</td>\n",
       "      <td>56</td>\n",
       "      <td>68</td>\n",
       "      <td>160</td>\n",
       "      <td>20</td>\n",
       "    </tr>\n",
       "    <tr>\n",
       "      <th>3</th>\n",
       "      <td>14</td>\n",
       "      <td>FEMALE</td>\n",
       "      <td>HIGH SCHOOL</td>\n",
       "      <td>17551.25</td>\n",
       "      <td>MARRIED</td>\n",
       "      <td>40</td>\n",
       "      <td>65</td>\n",
       "      <td>156</td>\n",
       "      <td>37</td>\n",
       "    </tr>\n",
       "    <tr>\n",
       "      <th>4</th>\n",
       "      <td>16</td>\n",
       "      <td>MALE</td>\n",
       "      <td>HIGH SCHOOL</td>\n",
       "      <td>17551.25</td>\n",
       "      <td>MARRIED</td>\n",
       "      <td>56</td>\n",
       "      <td>66</td>\n",
       "      <td>210</td>\n",
       "      <td>6</td>\n",
       "    </tr>\n",
       "    <tr>\n",
       "      <th>...</th>\n",
       "      <td>...</td>\n",
       "      <td>...</td>\n",
       "      <td>...</td>\n",
       "      <td>...</td>\n",
       "      <td>...</td>\n",
       "      <td>...</td>\n",
       "      <td>...</td>\n",
       "      <td>...</td>\n",
       "      <td>...</td>\n",
       "    </tr>\n",
       "    <tr>\n",
       "      <th>989</th>\n",
       "      <td>2531</td>\n",
       "      <td>MALE</td>\n",
       "      <td>HIGH SCHOOL</td>\n",
       "      <td>1478.00</td>\n",
       "      <td>NEVER MARRIED</td>\n",
       "      <td>40</td>\n",
       "      <td>71</td>\n",
       "      <td>230</td>\n",
       "      <td>48</td>\n",
       "    </tr>\n",
       "    <tr>\n",
       "      <th>990</th>\n",
       "      <td>2535</td>\n",
       "      <td>MALE</td>\n",
       "      <td>HIGH SCHOOL</td>\n",
       "      <td>33255.00</td>\n",
       "      <td>DIVORCED</td>\n",
       "      <td>56</td>\n",
       "      <td>72</td>\n",
       "      <td>195</td>\n",
       "      <td>46</td>\n",
       "    </tr>\n",
       "    <tr>\n",
       "      <th>991</th>\n",
       "      <td>2536</td>\n",
       "      <td>MALE</td>\n",
       "      <td>HIGH SCHOOL</td>\n",
       "      <td>8313.75</td>\n",
       "      <td>NEVER MARRIED</td>\n",
       "      <td>24</td>\n",
       "      <td>68</td>\n",
       "      <td>145</td>\n",
       "      <td>40</td>\n",
       "    </tr>\n",
       "    <tr>\n",
       "      <th>992</th>\n",
       "      <td>2537</td>\n",
       "      <td>MALE</td>\n",
       "      <td>HIGH SCHOOL</td>\n",
       "      <td>27712.50</td>\n",
       "      <td>NEVER MARRIED</td>\n",
       "      <td>27</td>\n",
       "      <td>68</td>\n",
       "      <td>180</td>\n",
       "      <td>40</td>\n",
       "    </tr>\n",
       "    <tr>\n",
       "      <th>993</th>\n",
       "      <td>2538</td>\n",
       "      <td>FEMALE</td>\n",
       "      <td>HIGH SCHOOL</td>\n",
       "      <td>15703.75</td>\n",
       "      <td>WIDOWED</td>\n",
       "      <td>71</td>\n",
       "      <td>63</td>\n",
       "      <td>140</td>\n",
       "      <td>48</td>\n",
       "    </tr>\n",
       "  </tbody>\n",
       "</table>\n",
       "<p>994 rows × 9 columns</p>\n",
       "</div>"
      ],
      "text/plain": [
       "       id     sex       degree    income        marital  age  height  weight  \\\n",
       "0       1    MALE     BACHELOR  60967.50       DIVORCED   53      72     190   \n",
       "1       2  FEMALE     BACHELOR  60967.50        MARRIED   26      60      97   \n",
       "2       4  FEMALE     BACHELOR  10161.25        MARRIED   56      68     160   \n",
       "3      14  FEMALE  HIGH SCHOOL  17551.25        MARRIED   40      65     156   \n",
       "4      16    MALE  HIGH SCHOOL  17551.25        MARRIED   56      66     210   \n",
       "..    ...     ...          ...       ...            ...  ...     ...     ...   \n",
       "989  2531    MALE  HIGH SCHOOL   1478.00  NEVER MARRIED   40      71     230   \n",
       "990  2535    MALE  HIGH SCHOOL  33255.00       DIVORCED   56      72     195   \n",
       "991  2536    MALE  HIGH SCHOOL   8313.75  NEVER MARRIED   24      68     145   \n",
       "992  2537    MALE  HIGH SCHOOL  27712.50  NEVER MARRIED   27      68     180   \n",
       "993  2538  FEMALE  HIGH SCHOOL  15703.75        WIDOWED   71      63     140   \n",
       "\n",
       "     hrswrk  \n",
       "0        60  \n",
       "1        40  \n",
       "2        20  \n",
       "3        37  \n",
       "4         6  \n",
       "..      ...  \n",
       "989      48  \n",
       "990      46  \n",
       "991      40  \n",
       "992      40  \n",
       "993      48  \n",
       "\n",
       "[994 rows x 9 columns]"
      ]
     },
     "execution_count": 23,
     "metadata": {},
     "output_type": "execute_result"
    }
   ],
   "source": [
    "# Note that pd.read_csv is used because we imported pandas as pd\n",
    "pd.read_csv(\"data/GSSsubset.csv\")\n",
    "# For Windows users:\n",
    "#pd.read_csv(\"data\\GSSsubset.csv\")"
   ]
  },
  {
   "cell_type": "markdown",
   "metadata": {
    "slideshow": {
     "slide_type": "slide"
    }
   },
   "source": [
    "### Let's Examine a Dataset\n",
    "\n",
    "When importing a dataset we should assign it to a variable for future use.\n",
    "\n",
    "Declare a variable name and assign the `read_csv()` function from earlier."
   ]
  },
  {
   "cell_type": "code",
   "execution_count": 5,
   "metadata": {
    "slideshow": {
     "slide_type": "fragment"
    }
   },
   "outputs": [],
   "source": [
    "# df is common short hand in Pandas for \"DataFrame\", which is the object type\n",
    "# we are creating when importing a csv file\n",
    "gss_df = pd.read_csv(\"data/GSSsubset.csv\")\n",
    "# For Windows users:\n",
    "# gss_df = pd.read_csv(\"data\\GSSsubset.csv\")"
   ]
  },
  {
   "cell_type": "markdown",
   "metadata": {
    "slideshow": {
     "slide_type": "subslide"
    }
   },
   "source": [
    "### Preview the First Few Lines of a Dataset\n",
    "After we assign our dataset to a variable, we can preview it with `head()`\n",
    "\n",
    ">Syntax: `dataFrame.head()`"
   ]
  },
  {
   "cell_type": "code",
   "execution_count": 6,
   "metadata": {
    "slideshow": {
     "slide_type": "fragment"
    }
   },
   "outputs": [
    {
     "data": {
      "text/html": [
       "<div>\n",
       "<style scoped>\n",
       "    .dataframe tbody tr th:only-of-type {\n",
       "        vertical-align: middle;\n",
       "    }\n",
       "\n",
       "    .dataframe tbody tr th {\n",
       "        vertical-align: top;\n",
       "    }\n",
       "\n",
       "    .dataframe thead th {\n",
       "        text-align: right;\n",
       "    }\n",
       "</style>\n",
       "<table border=\"1\" class=\"dataframe\">\n",
       "  <thead>\n",
       "    <tr style=\"text-align: right;\">\n",
       "      <th></th>\n",
       "      <th>id</th>\n",
       "      <th>sex</th>\n",
       "      <th>degree</th>\n",
       "      <th>income</th>\n",
       "      <th>marital</th>\n",
       "      <th>age</th>\n",
       "      <th>height</th>\n",
       "      <th>weight</th>\n",
       "      <th>hrswrk</th>\n",
       "    </tr>\n",
       "  </thead>\n",
       "  <tbody>\n",
       "    <tr>\n",
       "      <th>0</th>\n",
       "      <td>1</td>\n",
       "      <td>MALE</td>\n",
       "      <td>BACHELOR</td>\n",
       "      <td>60967.50</td>\n",
       "      <td>DIVORCED</td>\n",
       "      <td>53</td>\n",
       "      <td>72</td>\n",
       "      <td>190</td>\n",
       "      <td>60</td>\n",
       "    </tr>\n",
       "    <tr>\n",
       "      <th>1</th>\n",
       "      <td>2</td>\n",
       "      <td>FEMALE</td>\n",
       "      <td>BACHELOR</td>\n",
       "      <td>60967.50</td>\n",
       "      <td>MARRIED</td>\n",
       "      <td>26</td>\n",
       "      <td>60</td>\n",
       "      <td>97</td>\n",
       "      <td>40</td>\n",
       "    </tr>\n",
       "    <tr>\n",
       "      <th>2</th>\n",
       "      <td>4</td>\n",
       "      <td>FEMALE</td>\n",
       "      <td>BACHELOR</td>\n",
       "      <td>10161.25</td>\n",
       "      <td>MARRIED</td>\n",
       "      <td>56</td>\n",
       "      <td>68</td>\n",
       "      <td>160</td>\n",
       "      <td>20</td>\n",
       "    </tr>\n",
       "    <tr>\n",
       "      <th>3</th>\n",
       "      <td>14</td>\n",
       "      <td>FEMALE</td>\n",
       "      <td>HIGH SCHOOL</td>\n",
       "      <td>17551.25</td>\n",
       "      <td>MARRIED</td>\n",
       "      <td>40</td>\n",
       "      <td>65</td>\n",
       "      <td>156</td>\n",
       "      <td>37</td>\n",
       "    </tr>\n",
       "    <tr>\n",
       "      <th>4</th>\n",
       "      <td>16</td>\n",
       "      <td>MALE</td>\n",
       "      <td>HIGH SCHOOL</td>\n",
       "      <td>17551.25</td>\n",
       "      <td>MARRIED</td>\n",
       "      <td>56</td>\n",
       "      <td>66</td>\n",
       "      <td>210</td>\n",
       "      <td>6</td>\n",
       "    </tr>\n",
       "  </tbody>\n",
       "</table>\n",
       "</div>"
      ],
      "text/plain": [
       "   id     sex       degree    income   marital  age  height  weight  hrswrk\n",
       "0   1    MALE     BACHELOR  60967.50  DIVORCED   53      72     190      60\n",
       "1   2  FEMALE     BACHELOR  60967.50   MARRIED   26      60      97      40\n",
       "2   4  FEMALE     BACHELOR  10161.25   MARRIED   56      68     160      20\n",
       "3  14  FEMALE  HIGH SCHOOL  17551.25   MARRIED   40      65     156      37\n",
       "4  16    MALE  HIGH SCHOOL  17551.25   MARRIED   56      66     210       6"
      ]
     },
     "execution_count": 6,
     "metadata": {},
     "output_type": "execute_result"
    }
   ],
   "source": [
    "gss_df.head()\n",
    "# head() can be used on any dataframe object!"
   ]
  },
  {
   "cell_type": "markdown",
   "metadata": {
    "slideshow": {
     "slide_type": "subslide"
    }
   },
   "source": [
    "### Examine a Dataset\n",
    "\n",
    "`head()` let's us look at the first few lines of a file.\n",
    "\n",
    "`tail()` will let us look that last few lines of a file.\n",
    "\n",
    "`describe()` will give us summary information."
   ]
  },
  {
   "cell_type": "markdown",
   "metadata": {
    "slideshow": {
     "slide_type": "subslide"
    }
   },
   "source": [
    "### Preview with tail()"
   ]
  },
  {
   "cell_type": "code",
   "execution_count": 7,
   "metadata": {
    "slideshow": {
     "slide_type": "fragment"
    }
   },
   "outputs": [
    {
     "data": {
      "text/html": [
       "<div>\n",
       "<style scoped>\n",
       "    .dataframe tbody tr th:only-of-type {\n",
       "        vertical-align: middle;\n",
       "    }\n",
       "\n",
       "    .dataframe tbody tr th {\n",
       "        vertical-align: top;\n",
       "    }\n",
       "\n",
       "    .dataframe thead th {\n",
       "        text-align: right;\n",
       "    }\n",
       "</style>\n",
       "<table border=\"1\" class=\"dataframe\">\n",
       "  <thead>\n",
       "    <tr style=\"text-align: right;\">\n",
       "      <th></th>\n",
       "      <th>id</th>\n",
       "      <th>sex</th>\n",
       "      <th>degree</th>\n",
       "      <th>income</th>\n",
       "      <th>marital</th>\n",
       "      <th>age</th>\n",
       "      <th>height</th>\n",
       "      <th>weight</th>\n",
       "      <th>hrswrk</th>\n",
       "    </tr>\n",
       "  </thead>\n",
       "  <tbody>\n",
       "    <tr>\n",
       "      <th>989</th>\n",
       "      <td>2531</td>\n",
       "      <td>MALE</td>\n",
       "      <td>HIGH SCHOOL</td>\n",
       "      <td>1478.00</td>\n",
       "      <td>NEVER MARRIED</td>\n",
       "      <td>40</td>\n",
       "      <td>71</td>\n",
       "      <td>230</td>\n",
       "      <td>48</td>\n",
       "    </tr>\n",
       "    <tr>\n",
       "      <th>990</th>\n",
       "      <td>2535</td>\n",
       "      <td>MALE</td>\n",
       "      <td>HIGH SCHOOL</td>\n",
       "      <td>33255.00</td>\n",
       "      <td>DIVORCED</td>\n",
       "      <td>56</td>\n",
       "      <td>72</td>\n",
       "      <td>195</td>\n",
       "      <td>46</td>\n",
       "    </tr>\n",
       "    <tr>\n",
       "      <th>991</th>\n",
       "      <td>2536</td>\n",
       "      <td>MALE</td>\n",
       "      <td>HIGH SCHOOL</td>\n",
       "      <td>8313.75</td>\n",
       "      <td>NEVER MARRIED</td>\n",
       "      <td>24</td>\n",
       "      <td>68</td>\n",
       "      <td>145</td>\n",
       "      <td>40</td>\n",
       "    </tr>\n",
       "    <tr>\n",
       "      <th>992</th>\n",
       "      <td>2537</td>\n",
       "      <td>MALE</td>\n",
       "      <td>HIGH SCHOOL</td>\n",
       "      <td>27712.50</td>\n",
       "      <td>NEVER MARRIED</td>\n",
       "      <td>27</td>\n",
       "      <td>68</td>\n",
       "      <td>180</td>\n",
       "      <td>40</td>\n",
       "    </tr>\n",
       "    <tr>\n",
       "      <th>993</th>\n",
       "      <td>2538</td>\n",
       "      <td>FEMALE</td>\n",
       "      <td>HIGH SCHOOL</td>\n",
       "      <td>15703.75</td>\n",
       "      <td>WIDOWED</td>\n",
       "      <td>71</td>\n",
       "      <td>63</td>\n",
       "      <td>140</td>\n",
       "      <td>48</td>\n",
       "    </tr>\n",
       "  </tbody>\n",
       "</table>\n",
       "</div>"
      ],
      "text/plain": [
       "       id     sex       degree    income        marital  age  height  weight  \\\n",
       "989  2531    MALE  HIGH SCHOOL   1478.00  NEVER MARRIED   40      71     230   \n",
       "990  2535    MALE  HIGH SCHOOL  33255.00       DIVORCED   56      72     195   \n",
       "991  2536    MALE  HIGH SCHOOL   8313.75  NEVER MARRIED   24      68     145   \n",
       "992  2537    MALE  HIGH SCHOOL  27712.50  NEVER MARRIED   27      68     180   \n",
       "993  2538  FEMALE  HIGH SCHOOL  15703.75        WIDOWED   71      63     140   \n",
       "\n",
       "     hrswrk  \n",
       "989      48  \n",
       "990      46  \n",
       "991      40  \n",
       "992      40  \n",
       "993      48  "
      ]
     },
     "execution_count": 7,
     "metadata": {},
     "output_type": "execute_result"
    }
   ],
   "source": [
    "gss_df.tail()"
   ]
  },
  {
   "cell_type": "markdown",
   "metadata": {
    "slideshow": {
     "slide_type": "subslide"
    }
   },
   "source": [
    "### Return Summary Statistics with describe()"
   ]
  },
  {
   "cell_type": "code",
   "execution_count": 8,
   "metadata": {
    "slideshow": {
     "slide_type": "fragment"
    }
   },
   "outputs": [
    {
     "name": "stdout",
     "output_type": "stream",
     "text": [
      "                id         income         age      height      weight  \\\n",
      "count   994.000000     994.000000  994.000000  994.000000  994.000000   \n",
      "mean   1271.183099   36887.218352   44.488934   67.414487  181.318913   \n",
      "std     734.068659   34702.256068   13.126865    4.037741   41.641615   \n",
      "min       1.000000     369.500000   19.000000   57.000000   90.000000   \n",
      "25%     648.250000   15703.750000   33.000000   64.000000  150.000000   \n",
      "50%    1254.500000   27712.500000   44.000000   67.000000  175.000000   \n",
      "75%    1915.750000   49882.500000   55.000000   70.000000  205.000000   \n",
      "max    2538.000000  158656.952000   79.000000   79.000000  410.000000   \n",
      "\n",
      "           hrswrk  \n",
      "count  994.000000  \n",
      "mean    42.640845  \n",
      "std     14.394974  \n",
      "min      1.000000  \n",
      "25%     38.000000  \n",
      "50%     40.000000  \n",
      "75%     50.000000  \n",
      "max     89.000000  \n"
     ]
    }
   ],
   "source": [
    "print(gss_df.describe())"
   ]
  },
  {
   "cell_type": "markdown",
   "metadata": {
    "slideshow": {
     "slide_type": "slide"
    }
   },
   "source": [
    "## Exercise 1: Import a Dataset\n",
    "\n",
    "- Import the dataset `ISBN.csv`\n",
    "- Preview the dataset\n",
    "    - Call the variable that you assigned to `ISBN.csv`\n",
    "    - Call the `head()` method on the DataFrame"
   ]
  },
  {
   "cell_type": "markdown",
   "metadata": {
    "slideshow": {
     "slide_type": "subslide"
    }
   },
   "source": [
    "### Examine the Dataset\n",
    "\n",
    "- `df.shape` where `df` is the name of your DataFrame\n",
    "    - Returns row x column\n",
    "- `df.columns`\n",
    "    - Returns a list of the column names\n",
    "- `df.index`\n",
    "    - Returns row information (range and step)\n",
    "- `df.info()`\n",
    "    - Returns list of variables, data type, count, size, etc.\n"
   ]
  },
  {
   "cell_type": "markdown",
   "metadata": {
    "slideshow": {
     "slide_type": "slide"
    }
   },
   "source": [
    "## Exercise 2\n",
    "\n",
    "- Examine the dimensions of `ISBN.csv`\n",
    "    - How many rows does this dataset have?\n",
    "    - How many columns?\n",
    "    - What are the variable names?"
   ]
  },
  {
   "cell_type": "code",
   "execution_count": 24,
   "metadata": {
    "slideshow": {
     "slide_type": "subslide"
    }
   },
   "outputs": [
    {
     "name": "stdout",
     "output_type": "stream",
     "text": [
      "(994, 9)\n"
     ]
    }
   ],
   "source": [
    "print(gss_df.shape)"
   ]
  },
  {
   "cell_type": "code",
   "execution_count": 25,
   "metadata": {
    "slideshow": {
     "slide_type": "fragment"
    }
   },
   "outputs": [
    {
     "name": "stdout",
     "output_type": "stream",
     "text": [
      "                id         income         age      height      weight  \\\n",
      "count   994.000000     994.000000  994.000000  994.000000  994.000000   \n",
      "mean   1271.183099   36887.218352   44.488934   67.414487  181.318913   \n",
      "std     734.068659   34702.256068   13.126865    4.037741   41.641615   \n",
      "min       1.000000     369.500000   19.000000   57.000000   90.000000   \n",
      "25%     648.250000   15703.750000   33.000000   64.000000  150.000000   \n",
      "50%    1254.500000   27712.500000   44.000000   67.000000  175.000000   \n",
      "75%    1915.750000   49882.500000   55.000000   70.000000  205.000000   \n",
      "max    2538.000000  158656.952000   79.000000   79.000000  410.000000   \n",
      "\n",
      "           hrswrk  \n",
      "count  994.000000  \n",
      "mean    42.640845  \n",
      "std     14.394974  \n",
      "min      1.000000  \n",
      "25%     38.000000  \n",
      "50%     40.000000  \n",
      "75%     50.000000  \n",
      "max     89.000000  \n"
     ]
    }
   ],
   "source": [
    "print(gss_df.describe())"
   ]
  },
  {
   "cell_type": "code",
   "execution_count": 40,
   "metadata": {
    "slideshow": {
     "slide_type": "subslide"
    }
   },
   "outputs": [
    {
     "name": "stdout",
     "output_type": "stream",
     "text": [
      "Index(['id', 'sex', 'degree', 'income', 'marital', 'age', 'height', 'weight',\n",
      "       'hrswrk'],\n",
      "      dtype='object')\n"
     ]
    }
   ],
   "source": [
    "gss_df.columns"
   ]
  },
  {
   "cell_type": "code",
   "execution_count": 96,
   "metadata": {
    "slideshow": {
     "slide_type": "fragment"
    }
   },
   "outputs": [
    {
     "data": {
      "text/plain": [
       "RangeIndex(start=0, stop=994, step=1)"
      ]
     },
     "execution_count": 96,
     "metadata": {},
     "output_type": "execute_result"
    }
   ],
   "source": [
    "gss_df.index"
   ]
  },
  {
   "cell_type": "code",
   "execution_count": 43,
   "metadata": {
    "slideshow": {
     "slide_type": "fragment"
    }
   },
   "outputs": [
    {
     "name": "stdout",
     "output_type": "stream",
     "text": [
      "<class 'pandas.core.frame.DataFrame'>\n",
      "RangeIndex: 994 entries, 0 to 993\n",
      "Data columns (total 9 columns):\n",
      "id         994 non-null int64\n",
      "sex        994 non-null object\n",
      "degree     994 non-null object\n",
      "income     994 non-null float64\n",
      "marital    994 non-null object\n",
      "age        994 non-null int64\n",
      "height     994 non-null int64\n",
      "weight     994 non-null int64\n",
      "hrswrk     994 non-null int64\n",
      "dtypes: float64(1), int64(5), object(3)\n",
      "memory usage: 70.0+ KB\n"
     ]
    }
   ],
   "source": [
    "gss_df.info()"
   ]
  },
  {
   "cell_type": "markdown",
   "metadata": {
    "slideshow": {
     "slide_type": "slide"
    }
   },
   "source": [
    "## Subset the Dataset\n",
    "|1. Subset by row/column name|2. Subset by row/column index|\n",
    "|:---|:---|\n",
    "|**`df.loc[rowname, colname]`**|**`df.iloc[rowindex, colindex]`**|\n",
    "|- `data.loc[2, 'degree']`<br>- `data.loc[:3,'id':'income']`<br>- `data.loc[[1,3,5],['id', 'degree', 'income']`|- `data.iloc[1, 3]`<br>- `data.iloc[:5,]`<br>- `data.iloc[900:, [2,3,5,8]]`|\n",
    "\n",
    "|3. Subset by variable name|4. Subset by specific criteria|\n",
    "|:---|:---|\n",
    "|**`df['colname']`**<br>**`df.colname`**|**`data[data['variable'] <operator> 'criteria']`**|\n",
    "|- `data['id']`<br> - `data[['id', 'degree', 'income']]`<br>- `data.degree`|- `data[data['age'] < 50]`<br>- `data[data['sex'] == 'MALE']`<br>- `data[(data['age'] < 50) & (data['sex'] == 'MALE')]`|\n",
    "\n",
    "Refer to [this](https://cmdlinetips.com/2019/03/how-to-select-one-or-more-columns-in-pandas/) article for a more in-depth explanation of subsetting in Pandas."
   ]
  },
  {
   "cell_type": "code",
   "execution_count": 26,
   "metadata": {
    "slideshow": {
     "slide_type": "subslide"
    }
   },
   "outputs": [
    {
     "data": {
      "text/html": [
       "<div>\n",
       "<style scoped>\n",
       "    .dataframe tbody tr th:only-of-type {\n",
       "        vertical-align: middle;\n",
       "    }\n",
       "\n",
       "    .dataframe tbody tr th {\n",
       "        vertical-align: top;\n",
       "    }\n",
       "\n",
       "    .dataframe thead th {\n",
       "        text-align: right;\n",
       "    }\n",
       "</style>\n",
       "<table border=\"1\" class=\"dataframe\">\n",
       "  <thead>\n",
       "    <tr style=\"text-align: right;\">\n",
       "      <th></th>\n",
       "      <th>id</th>\n",
       "      <th>sex</th>\n",
       "      <th>degree</th>\n",
       "      <th>income</th>\n",
       "      <th>marital</th>\n",
       "      <th>age</th>\n",
       "      <th>height</th>\n",
       "      <th>weight</th>\n",
       "      <th>hrswrk</th>\n",
       "    </tr>\n",
       "  </thead>\n",
       "  <tbody>\n",
       "    <tr>\n",
       "      <th>7</th>\n",
       "      <td>27</td>\n",
       "      <td>MALE</td>\n",
       "      <td>HIGH SCHOOL</td>\n",
       "      <td>17551.25</td>\n",
       "      <td>SEPARATED</td>\n",
       "      <td>35</td>\n",
       "      <td>70</td>\n",
       "      <td>180</td>\n",
       "      <td>40</td>\n",
       "    </tr>\n",
       "    <tr>\n",
       "      <th>11</th>\n",
       "      <td>38</td>\n",
       "      <td>MALE</td>\n",
       "      <td>HIGH SCHOOL</td>\n",
       "      <td>33255.00</td>\n",
       "      <td>DIVORCED</td>\n",
       "      <td>31</td>\n",
       "      <td>67</td>\n",
       "      <td>150</td>\n",
       "      <td>39</td>\n",
       "    </tr>\n",
       "    <tr>\n",
       "      <th>12</th>\n",
       "      <td>40</td>\n",
       "      <td>MALE</td>\n",
       "      <td>BACHELOR</td>\n",
       "      <td>73900.00</td>\n",
       "      <td>MARRIED</td>\n",
       "      <td>35</td>\n",
       "      <td>69</td>\n",
       "      <td>200</td>\n",
       "      <td>50</td>\n",
       "    </tr>\n",
       "    <tr>\n",
       "      <th>13</th>\n",
       "      <td>44</td>\n",
       "      <td>MALE</td>\n",
       "      <td>HIGH SCHOOL</td>\n",
       "      <td>24017.50</td>\n",
       "      <td>NEVER MARRIED</td>\n",
       "      <td>26</td>\n",
       "      <td>76</td>\n",
       "      <td>165</td>\n",
       "      <td>45</td>\n",
       "    </tr>\n",
       "    <tr>\n",
       "      <th>16</th>\n",
       "      <td>47</td>\n",
       "      <td>MALE</td>\n",
       "      <td>JUNIOR COLLEGE</td>\n",
       "      <td>40645.00</td>\n",
       "      <td>NEVER MARRIED</td>\n",
       "      <td>30</td>\n",
       "      <td>72</td>\n",
       "      <td>185</td>\n",
       "      <td>45</td>\n",
       "    </tr>\n",
       "  </tbody>\n",
       "</table>\n",
       "</div>"
      ],
      "text/plain": [
       "    id   sex          degree    income        marital  age  height  weight  \\\n",
       "7   27  MALE     HIGH SCHOOL  17551.25      SEPARATED   35      70     180   \n",
       "11  38  MALE     HIGH SCHOOL  33255.00       DIVORCED   31      67     150   \n",
       "12  40  MALE        BACHELOR  73900.00        MARRIED   35      69     200   \n",
       "13  44  MALE     HIGH SCHOOL  24017.50  NEVER MARRIED   26      76     165   \n",
       "16  47  MALE  JUNIOR COLLEGE  40645.00  NEVER MARRIED   30      72     185   \n",
       "\n",
       "    hrswrk  \n",
       "7       40  \n",
       "11      39  \n",
       "12      50  \n",
       "13      45  \n",
       "16      45  "
      ]
     },
     "execution_count": 26,
     "metadata": {},
     "output_type": "execute_result"
    }
   ],
   "source": [
    "# Here is an example of a subset for males less than 50 years of age\n",
    "# Note that this expression includes the head() method!\n",
    "gss_df[(gss_df['age'] < 50) & (gss_df['sex'] == 'MALE')].head()"
   ]
  },
  {
   "cell_type": "markdown",
   "metadata": {
    "slideshow": {
     "slide_type": "slide"
    }
   },
   "source": [
    "## Exercise 3\n",
    "\n",
    "Using the `ISBN.csv` dataset answer the following question:\n",
    "- In which years was the *Journal of Crystal Growth* requested?\n",
    ">Hint: You will need to subset by criteria and then subset by column name!\n",
    "- You can also sor data using the following code:\n",
    "    - `df.sort_values(by=['colname'], inplace=False, ascending=False)`"
   ]
  },
  {
   "cell_type": "markdown",
   "metadata": {
    "slideshow": {
     "slide_type": "slide"
    }
   },
   "source": [
    "## Summary Report\n",
    "- Summary of each variable: `df.describe()`\n",
    "- Summary statistics for subgroups/categories: \n",
    "    - **Example question:** According to the `GSSsubset` dataset, what is the average income by sex?"
   ]
  },
  {
   "cell_type": "code",
   "execution_count": 99,
   "metadata": {
    "slideshow": {
     "slide_type": "fragment"
    }
   },
   "outputs": [
    {
     "data": {
      "text/html": [
       "<div>\n",
       "<style scoped>\n",
       "    .dataframe tbody tr th:only-of-type {\n",
       "        vertical-align: middle;\n",
       "    }\n",
       "\n",
       "    .dataframe tbody tr th {\n",
       "        vertical-align: top;\n",
       "    }\n",
       "\n",
       "    .dataframe thead th {\n",
       "        text-align: right;\n",
       "    }\n",
       "</style>\n",
       "<table border=\"1\" class=\"dataframe\">\n",
       "  <thead>\n",
       "    <tr style=\"text-align: right;\">\n",
       "      <th></th>\n",
       "      <th>income</th>\n",
       "    </tr>\n",
       "    <tr>\n",
       "      <th>sex</th>\n",
       "      <th></th>\n",
       "    </tr>\n",
       "  </thead>\n",
       "  <tbody>\n",
       "    <tr>\n",
       "      <th>FEMALE</th>\n",
       "      <td>27300.446119</td>\n",
       "    </tr>\n",
       "    <tr>\n",
       "      <th>MALE</th>\n",
       "      <td>46095.814166</td>\n",
       "    </tr>\n",
       "  </tbody>\n",
       "</table>\n",
       "</div>"
      ],
      "text/plain": [
       "              income\n",
       "sex                 \n",
       "FEMALE  27300.446119\n",
       "MALE    46095.814166"
      ]
     },
     "execution_count": 99,
     "metadata": {},
     "output_type": "execute_result"
    }
   ],
   "source": [
    "gss_df.groupby(['sex'])[['income']].aggregate('mean')"
   ]
  },
  {
   "cell_type": "markdown",
   "metadata": {
    "slideshow": {
     "slide_type": "slide"
    }
   },
   "source": [
    "## Exercise 4: Answering Questions with Data\n",
    "- Import the dataset *`lib_checkout.csv`*\n",
    "- How many books were checked out by undgrads in total?\n",
    "- How many books were checked out by graduate students in total?\n",
    "- How many books were checked out by day of the week on average?\n",
    ">**Bonus question:**\n",
    "    - How many books were checked out by grad students and undergraduate students by day of the week on average? (use only ***one*** command)\n",
    "    - Assign the result to a variable named `weekmean`"
   ]
  },
  {
   "cell_type": "code",
   "execution_count": 27,
   "metadata": {
    "slideshow": {
     "slide_type": "subslide"
    }
   },
   "outputs": [],
   "source": [
    "# Read the lib_checkout dataset and store in a variable\n",
    "libdata = pd.read_csv(\"data/lib_checkout.csv\")\n",
    "# For Windows users\n",
    "#libdata = pd.read_csv(\"data\\lib_checkout.csv\")\n",
    "\n",
    "# Subset by undergrad\n",
    "ulib = libdata[libdata['status'] == 'Undergrad']"
   ]
  },
  {
   "cell_type": "code",
   "execution_count": 11,
   "metadata": {
    "slideshow": {
     "slide_type": "subslide"
    }
   },
   "outputs": [
    {
     "data": {
      "text/html": [
       "<div>\n",
       "<style scoped>\n",
       "    .dataframe tbody tr th:only-of-type {\n",
       "        vertical-align: middle;\n",
       "    }\n",
       "\n",
       "    .dataframe tbody tr th {\n",
       "        vertical-align: top;\n",
       "    }\n",
       "\n",
       "    .dataframe thead th {\n",
       "        text-align: right;\n",
       "    }\n",
       "</style>\n",
       "<table border=\"1\" class=\"dataframe\">\n",
       "  <thead>\n",
       "    <tr style=\"text-align: right;\">\n",
       "      <th></th>\n",
       "      <th>date</th>\n",
       "      <th>day</th>\n",
       "      <th>count</th>\n",
       "      <th>status</th>\n",
       "      <th>laptop_checkout</th>\n",
       "      <th>book_checkout</th>\n",
       "    </tr>\n",
       "  </thead>\n",
       "  <tbody>\n",
       "    <tr>\n",
       "      <th>0</th>\n",
       "      <td>9/1/2014</td>\n",
       "      <td>Monday</td>\n",
       "      <td>6570</td>\n",
       "      <td>Undergrad</td>\n",
       "      <td>329</td>\n",
       "      <td>1643</td>\n",
       "    </tr>\n",
       "    <tr>\n",
       "      <th>2</th>\n",
       "      <td>9/2/2014</td>\n",
       "      <td>Tuesday</td>\n",
       "      <td>5852</td>\n",
       "      <td>Undergrad</td>\n",
       "      <td>585</td>\n",
       "      <td>1522</td>\n",
       "    </tr>\n",
       "    <tr>\n",
       "      <th>4</th>\n",
       "      <td>9/3/2014</td>\n",
       "      <td>Wednesday</td>\n",
       "      <td>7060</td>\n",
       "      <td>Undergrad</td>\n",
       "      <td>847</td>\n",
       "      <td>1836</td>\n",
       "    </tr>\n",
       "    <tr>\n",
       "      <th>6</th>\n",
       "      <td>9/4/2014</td>\n",
       "      <td>Thursday</td>\n",
       "      <td>8065</td>\n",
       "      <td>Undergrad</td>\n",
       "      <td>968</td>\n",
       "      <td>2097</td>\n",
       "    </tr>\n",
       "    <tr>\n",
       "      <th>8</th>\n",
       "      <td>9/5/2014</td>\n",
       "      <td>Friday</td>\n",
       "      <td>6323</td>\n",
       "      <td>Undergrad</td>\n",
       "      <td>759</td>\n",
       "      <td>1770</td>\n",
       "    </tr>\n",
       "  </tbody>\n",
       "</table>\n",
       "</div>"
      ],
      "text/plain": [
       "       date        day  count     status  laptop_checkout  book_checkout\n",
       "0  9/1/2014     Monday   6570  Undergrad              329           1643\n",
       "2  9/2/2014    Tuesday   5852  Undergrad              585           1522\n",
       "4  9/3/2014  Wednesday   7060  Undergrad              847           1836\n",
       "6  9/4/2014   Thursday   8065  Undergrad              968           2097\n",
       "8  9/5/2014     Friday   6323  Undergrad              759           1770"
      ]
     },
     "execution_count": 11,
     "metadata": {},
     "output_type": "execute_result"
    }
   ],
   "source": [
    "# Preview the subset\n",
    "ulib.head()"
   ]
  },
  {
   "cell_type": "markdown",
   "metadata": {
    "slideshow": {
     "slide_type": "slide"
    }
   },
   "source": [
    "## Plotting in Python/Pandas\n",
    "We need to import `matplotlib`, a popular scientific plotting library"
   ]
  },
  {
   "cell_type": "code",
   "execution_count": 12,
   "metadata": {
    "slideshow": {
     "slide_type": "fragment"
    }
   },
   "outputs": [],
   "source": [
    "# This command forces plots to display in Jupyter Notebooks\n",
    "%matplotlib inline \n",
    "# This command imports matplotlib and assigns the alias plt\n",
    "import matplotlib.pyplot as plt"
   ]
  },
  {
   "cell_type": "markdown",
   "metadata": {
    "slideshow": {
     "slide_type": "subslide"
    }
   },
   "source": [
    "### Univariate Graph: Histogram\n",
    "More information on plotting historgrams [here](https://pythonspot.com/matplotlib-histogram/)"
   ]
  },
  {
   "cell_type": "code",
   "execution_count": 13,
   "metadata": {
    "slideshow": {
     "slide_type": "fragment"
    }
   },
   "outputs": [
    {
     "data": {
      "text/plain": [
       "Text(0,0.5,'Frequency')"
      ]
     },
     "execution_count": 13,
     "metadata": {},
     "output_type": "execute_result"
    },
    {
     "data": {
      "image/png": "[encoded data removed]",
      "text/plain": [
       "<Figure size 432x288 with 1 Axes>"
      ]
     },
     "metadata": {},
     "output_type": "display_data"
    }
   ],
   "source": [
    "# Graph the data\n",
    "plt.hist(gss_df['income'], edgecolor='black', linewidth='1', alpha=0.5)\n",
    "# Add title and axes labels\n",
    "plt.title('Histogram of Income')\n",
    "plt.xlabel('Annual Income')\n",
    "plt.ylabel('Frequency')"
   ]
  },
  {
   "cell_type": "markdown",
   "metadata": {
    "slideshow": {
     "slide_type": "subslide"
    }
   },
   "source": [
    "### Another way to Create a Histogram\n",
    "The `plot()` function is useful for when you don't want to mess with the aesthetics of graph."
   ]
  },
  {
   "cell_type": "code",
   "execution_count": 14,
   "metadata": {
    "scrolled": true,
    "slideshow": {
     "slide_type": "fragment"
    }
   },
   "outputs": [
    {
     "data": {
      "text/plain": [
       "[Text(0.5,0,'Annual Income')]"
      ]
     },
     "execution_count": 14,
     "metadata": {},
     "output_type": "execute_result"
    },
    {
     "data": {
      "image/png": "[encoded data removed]",
      "text/plain": [
       "<Figure size 432x288 with 1 Axes>"
      ]
     },
     "metadata": {},
     "output_type": "display_data"
    }
   ],
   "source": [
    "gss_df['income'].plot(kind='hist', title='Histogram of Income').set(xlabel='Annual Income')"
   ]
  },
  {
   "cell_type": "markdown",
   "metadata": {
    "slideshow": {
     "slide_type": "subslide"
    }
   },
   "source": [
    "### Univariate Graph: Bar Chart"
   ]
  },
  {
   "cell_type": "code",
   "execution_count": 15,
   "metadata": {
    "slideshow": {
     "slide_type": "fragment"
    }
   },
   "outputs": [
    {
     "data": {
      "text/plain": [
       "<matplotlib.axes._subplots.AxesSubplot at 0x1188dc940>"
      ]
     },
     "execution_count": 15,
     "metadata": {},
     "output_type": "execute_result"
    },
    {
     "data": {
      "image/png": "[encoded data removed]",
      "text/plain": [
       "<Figure size 432x288 with 1 Axes>"
      ]
     },
     "metadata": {},
     "output_type": "display_data"
    }
   ],
   "source": [
    "# To plot a single variable on a bar chart, we need\n",
    "# to count the individual values first\n",
    "gss_df['marital'].value_counts().plot(kind='bar')"
   ]
  },
  {
   "cell_type": "markdown",
   "metadata": {
    "slideshow": {
     "slide_type": "subslide"
    }
   },
   "source": [
    "### Bivariate Graph: Scatterplot"
   ]
  },
  {
   "cell_type": "code",
   "execution_count": 16,
   "metadata": {
    "slideshow": {
     "slide_type": "fragment"
    }
   },
   "outputs": [
    {
     "data": {
      "text/plain": [
       "Text(0,0.5,'Annual Income')"
      ]
     },
     "execution_count": 16,
     "metadata": {},
     "output_type": "execute_result"
    },
    {
     "data": {
      "image/png": "[encoded data removed]",
      "text/plain": [
       "<Figure size 432x288 with 1 Axes>"
      ]
     },
     "metadata": {},
     "output_type": "display_data"
    }
   ],
   "source": [
    "# Graph the data\n",
    "plt.scatter(gss_df['hrswrk'], gss_df['income'])\n",
    "# Set the axes and title labels\n",
    "plt.title('Plot of Income and Working Hours')\n",
    "plt.xlabel('Working Hours')\n",
    "plt.ylabel('Annual Income')"
   ]
  },
  {
   "cell_type": "markdown",
   "metadata": {
    "slideshow": {
     "slide_type": "slide"
    }
   },
   "source": [
    "## Exercise 5: Plot Some Data\n",
    "Dataset: *`lib_checkout.csv`*\n",
    "\n",
    "Draw a scatterplot showing `laptop_checkout` as the x variable and `book_checkout` as the y variable for **undergraduate students only**\n",
    "\n",
    ">Hint:\n",
    "- Create a subset of the original data by `status` and save to a new DataFrame\n",
    "- Plot using the new DataFrame"
   ]
  },
  {
   "cell_type": "markdown",
   "metadata": {
    "slideshow": {
     "slide_type": "slide"
    }
   },
   "source": [
    "## Simple Linear Regression\n",
    "<center>${y} = \\beta_0+\\beta_1{x}+{e}$</center>\n",
    "- ${y}$ : dependent variable\n",
    "- ${x}$ : independent variable\n",
    "- ${e}$ : error term\n",
    "- $\\beta_0$ : intercept\n",
    "- $\\beta_1$ : slope"
   ]
  },
  {
   "cell_type": "markdown",
   "metadata": {
    "slideshow": {
     "slide_type": "subslide"
    }
   },
   "source": [
    "## Simple Linear Regression\n",
    "1. **F-test ${p}$-value**: *Is this model statistically significant?*\n",
    "2. **${r}^2$**: *How much variance in ${y}$ can be explained by the variance in ${x}$?*\n",
    "3. **Intercept**\n",
    "4. **Slope**"
   ]
  },
  {
   "cell_type": "markdown",
   "metadata": {
    "slideshow": {
     "slide_type": "subslide"
    }
   },
   "source": [
    "### Linear Regressions Using `statsmodels.api`"
   ]
  },
  {
   "cell_type": "code",
   "execution_count": 17,
   "metadata": {
    "slideshow": {
     "slide_type": "fragment"
    }
   },
   "outputs": [
    {
     "name": "stderr",
     "output_type": "stream",
     "text": [
      "/anaconda3/lib/python3.6/site-packages/statsmodels/compat/pandas.py:56: FutureWarning: The pandas.core.datetools module is deprecated and will be removed in a future version. Please use the pandas.tseries module instead.\n",
      "  from pandas.core import datetools\n"
     ]
    },
    {
     "name": "stdout",
     "output_type": "stream",
     "text": [
      "                            OLS Regression Results                            \n",
      "==============================================================================\n",
      "Dep. Variable:                      y   R-squared:                       0.118\n",
      "Model:                            OLS   Adj. R-squared:                  0.117\n",
      "Method:                 Least Squares   F-statistic:                     132.3\n",
      "Date:                Wed, 24 Jul 2019   Prob (F-statistic):           7.79e-29\n",
      "Time:                        10:21:35   Log-Likelihood:                -11740.\n",
      "No. Observations:                 994   AIC:                         2.348e+04\n",
      "Df Residuals:                     992   BIC:                         2.349e+04\n",
      "Df Model:                           1                                         \n",
      "Covariance Type:            nonrobust                                         \n",
      "==============================================================================\n",
      "                 coef    std err          t      P>|t|      [0.025      0.975]\n",
      "------------------------------------------------------------------------------\n",
      "const       1621.4901   3235.485      0.501      0.616   -4727.690    7970.670\n",
      "x1           827.0410     71.895     11.503      0.000     685.957     968.125\n",
      "==============================================================================\n",
      "Omnibus:                      421.362   Durbin-Watson:                   1.708\n",
      "Prob(Omnibus):                  0.000   Jarque-Bera (JB):             1713.357\n",
      "Skew:                           2.027   Prob(JB):                         0.00\n",
      "Kurtosis:                       7.993   Cond. No.                         141.\n",
      "==============================================================================\n",
      "\n",
      "Warnings:\n",
      "[1] Standard Errors assume that the covariance matrix of the errors is correctly specified.\n"
     ]
    }
   ],
   "source": [
    "import numpy as np\n",
    "import statsmodels.api as sm\n",
    "\n",
    "# This is the difficult way of implementing a linear model in Python\n",
    "y1 = gss_df['income'] # Dependent variable\n",
    "x1 = gss_df['hrswrk'] # Independent variable\n",
    "y1, x1 = np.array(y1), np.array(x1) # Convert to numpy arrays\n",
    "x1 = sm.add_constant(x1) # Add constant (column of 1's)\n",
    "model = sm.OLS(y1, x1) # Define the model\n",
    "fitted = model.fit() # Fit the model\n",
    "print(fitted.summary()) # Print the results"
   ]
  },
  {
   "cell_type": "markdown",
   "metadata": {
    "slideshow": {
     "slide_type": "subslide"
    }
   },
   "source": [
    "### Linear Regressions Using `statsmodels.formula.api`"
   ]
  },
  {
   "cell_type": "code",
   "execution_count": 18,
   "metadata": {
    "slideshow": {
     "slide_type": "fragment"
    }
   },
   "outputs": [
    {
     "name": "stdout",
     "output_type": "stream",
     "text": [
      "                            OLS Regression Results                            \n",
      "==============================================================================\n",
      "Dep. Variable:                 income   R-squared:                       0.118\n",
      "Model:                            OLS   Adj. R-squared:                  0.117\n",
      "Method:                 Least Squares   F-statistic:                     132.3\n",
      "Date:                Wed, 24 Jul 2019   Prob (F-statistic):           7.79e-29\n",
      "Time:                        10:22:05   Log-Likelihood:                -11740.\n",
      "No. Observations:                 994   AIC:                         2.348e+04\n",
      "Df Residuals:                     992   BIC:                         2.349e+04\n",
      "Df Model:                           1                                         \n",
      "Covariance Type:            nonrobust                                         \n",
      "==============================================================================\n",
      "                 coef    std err          t      P>|t|      [0.025      0.975]\n",
      "------------------------------------------------------------------------------\n",
      "Intercept   1621.4901   3235.485      0.501      0.616   -4727.690    7970.670\n",
      "hrswrk       827.0410     71.895     11.503      0.000     685.957     968.125\n",
      "==============================================================================\n",
      "Omnibus:                      421.362   Durbin-Watson:                   1.708\n",
      "Prob(Omnibus):                  0.000   Jarque-Bera (JB):             1713.357\n",
      "Skew:                           2.027   Prob(JB):                         0.00\n",
      "Kurtosis:                       7.993   Cond. No.                         141.\n",
      "==============================================================================\n",
      "\n",
      "Warnings:\n",
      "[1] Standard Errors assume that the covariance matrix of the errors is correctly specified.\n"
     ]
    }
   ],
   "source": [
    "import statsmodels.formula.api as smf\n",
    "\n",
    "# This is the easier way of implementing a linear model using\n",
    "# R-like formulas\n",
    "model1 = smf.ols(formula='income ~ hrswrk', data=gss_df).fit() # Note the lowercase 'ols'\n",
    "print(model1.summary())                                        # Required to use patsy formulae"
   ]
  },
  {
   "cell_type": "markdown",
   "metadata": {
    "slideshow": {
     "slide_type": "slide"
    }
   },
   "source": [
    "## Exercise 6: Linear Regressions\n",
    "### Use the undergraduate subset created in Exercise 4\n",
    "1. Run a simple linear regression of `book_checkout` (dependent variable, ${y}$) on `laptop_checkout` (independent variable, ${x}$)\n",
    "2. Using the regression output, write down the regression model as comment in your code\n",
    "3. Is the model significant on alpha = 0.05?"
   ]
  },
  {
   "cell_type": "code",
   "execution_count": 29,
   "metadata": {
    "slideshow": {
     "slide_type": "subslide"
    }
   },
   "outputs": [
    {
     "name": "stdout",
     "output_type": "stream",
     "text": [
      "                            OLS Regression Results                            \n",
      "==============================================================================\n",
      "Dep. Variable:          book_checkout   R-squared:                       0.216\n",
      "Model:                            OLS   Adj. R-squared:                  0.188\n",
      "Method:                 Least Squares   F-statistic:                     7.714\n",
      "Date:                Wed, 24 Jul 2019   Prob (F-statistic):            0.00967\n",
      "Time:                        11:14:33   Log-Likelihood:                -217.97\n",
      "No. Observations:                  30   AIC:                             439.9\n",
      "Df Residuals:                      28   BIC:                             442.7\n",
      "Df Model:                           1                                         \n",
      "Covariance Type:            nonrobust                                         \n",
      "===================================================================================\n",
      "                      coef    std err          t      P>|t|      [0.025      0.975]\n",
      "-----------------------------------------------------------------------------------\n",
      "Intercept        1316.3691    158.720      8.294      0.000     991.245    1641.493\n",
      "laptop_checkout     0.7280      0.262      2.777      0.010       0.191       1.265\n",
      "==============================================================================\n",
      "Omnibus:                        1.573   Durbin-Watson:                   2.523\n",
      "Prob(Omnibus):                  0.455   Jarque-Bera (JB):                1.193\n",
      "Skew:                           0.481   Prob(JB):                        0.551\n",
      "Kurtosis:                       2.832   Cond. No.                     1.47e+03\n",
      "==============================================================================\n",
      "\n",
      "Warnings:\n",
      "[1] Standard Errors assume that the covariance matrix of the errors is correctly specified.\n",
      "[2] The condition number is large, 1.47e+03. This might indicate that there are\n",
      "strong multicollinearity or other numerical problems.\n"
     ]
    }
   ],
   "source": [
    "#y = ulib['book_checkout']\n",
    "#x = ulib['laptop_checkout']\n",
    "model = smf.ols(formula='book_checkout ~ laptop_checkout', data=ulib).fit()\n",
    "print(model.summary())"
   ]
  },
  {
   "cell_type": "markdown",
   "metadata": {
    "slideshow": {
     "slide_type": "slide"
    }
   },
   "source": [
    "## Thank you!\n",
    "\n",
    "\n",
    "\n",
    "### David Durden\n",
    "✉️ [durden@umd.edu](mailto:durden@umd.edu)<br>\n",
    "🖥 [https://lib.umd.edu/data]()\n",
    "\n",
    "### Yishan Ding\n",
    "✉️ [ysding@umd.edu](mailto:ysding@umd.edu)<br>\n",
    "🖥 [https://www.lib.umd.edu/rc/statistical-consulting]()"
   ]
  }
 ],
 "metadata": {
  "celltoolbar": "Slideshow",
  "kernelspec": {
   "display_name": "Python 3",
   "language": "python",
   "name": "python3"
  },
  "language_info": {
   "codemirror_mode": {
    "name": "ipython",
    "version": 3
   },
   "file_extension": ".py",
   "mimetype": "text/x-python",
   "name": "python",
   "nbconvert_exporter": "python",
   "pygments_lexer": "ipython3",
   "version": "3.6.7"
  }
 },
 "nbformat": 4,
 "nbformat_minor": 2
}
